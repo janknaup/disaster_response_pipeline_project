{
 "cells": [
  {
   "cell_type": "markdown",
   "metadata": {
    "collapsed": true,
    "pycharm": {
     "name": "#%% md\n"
    }
   },
   "source": [
    "# Exploration for Disaster Message Categorization"
   ]
  },
  {
   "cell_type": "code",
   "execution_count": 1,
   "outputs": [],
   "source": [
    "import pandas as pd\n",
    "import nltk\n",
    "import sqlite3\n"
   ],
   "metadata": {
    "collapsed": false,
    "pycharm": {
     "name": "#%%\n"
    }
   }
  },
  {
   "cell_type": "markdown",
   "source": [
    "## Exploring Message Categories"
   ],
   "metadata": {
    "collapsed": false,
    "pycharm": {
     "name": "#%% md\n"
    }
   }
  },
  {
   "cell_type": "code",
   "execution_count": 2,
   "outputs": [
    {
     "data": {
      "text/plain": "                                              categories\nid                                                      \n7415   related-0;request-0;offer-0;aid_related-0;medi...\n13400  related-1;request-0;offer-0;aid_related-0;medi...\n25371  related-1;request-0;offer-0;aid_related-1;medi...\n29722  related-1;request-0;offer-0;aid_related-0;medi...\n6634   related-1;request-0;offer-0;aid_related-1;medi...\n9341   related-0;request-0;offer-0;aid_related-0;medi...\n20260  related-1;request-0;offer-0;aid_related-0;medi...\n2254   related-1;request-0;offer-0;aid_related-1;medi...\n29247  related-0;request-0;offer-0;aid_related-0;medi...\n2166   related-0;request-0;offer-0;aid_related-0;medi...\n16115  related-1;request-0;offer-0;aid_related-0;medi...\n26841  related-1;request-1;offer-0;aid_related-1;medi...\n28070  related-0;request-0;offer-0;aid_related-0;medi...\n13343  related-1;request-0;offer-0;aid_related-0;medi...\n16724  related-1;request-0;offer-0;aid_related-1;medi...\n15690  related-1;request-0;offer-0;aid_related-0;medi...\n13668  related-1;request-0;offer-0;aid_related-0;medi...\n18905  related-0;request-0;offer-0;aid_related-0;medi...\n4969   related-1;request-1;offer-0;aid_related-1;medi...\n2527   related-1;request-1;offer-0;aid_related-1;medi...",
      "text/html": "<div>\n<style scoped>\n    .dataframe tbody tr th:only-of-type {\n        vertical-align: middle;\n    }\n\n    .dataframe tbody tr th {\n        vertical-align: top;\n    }\n\n    .dataframe thead th {\n        text-align: right;\n    }\n</style>\n<table border=\"1\" class=\"dataframe\">\n  <thead>\n    <tr style=\"text-align: right;\">\n      <th></th>\n      <th>categories</th>\n    </tr>\n    <tr>\n      <th>id</th>\n      <th></th>\n    </tr>\n  </thead>\n  <tbody>\n    <tr>\n      <th>7415</th>\n      <td>related-0;request-0;offer-0;aid_related-0;medi...</td>\n    </tr>\n    <tr>\n      <th>13400</th>\n      <td>related-1;request-0;offer-0;aid_related-0;medi...</td>\n    </tr>\n    <tr>\n      <th>25371</th>\n      <td>related-1;request-0;offer-0;aid_related-1;medi...</td>\n    </tr>\n    <tr>\n      <th>29722</th>\n      <td>related-1;request-0;offer-0;aid_related-0;medi...</td>\n    </tr>\n    <tr>\n      <th>6634</th>\n      <td>related-1;request-0;offer-0;aid_related-1;medi...</td>\n    </tr>\n    <tr>\n      <th>9341</th>\n      <td>related-0;request-0;offer-0;aid_related-0;medi...</td>\n    </tr>\n    <tr>\n      <th>20260</th>\n      <td>related-1;request-0;offer-0;aid_related-0;medi...</td>\n    </tr>\n    <tr>\n      <th>2254</th>\n      <td>related-1;request-0;offer-0;aid_related-1;medi...</td>\n    </tr>\n    <tr>\n      <th>29247</th>\n      <td>related-0;request-0;offer-0;aid_related-0;medi...</td>\n    </tr>\n    <tr>\n      <th>2166</th>\n      <td>related-0;request-0;offer-0;aid_related-0;medi...</td>\n    </tr>\n    <tr>\n      <th>16115</th>\n      <td>related-1;request-0;offer-0;aid_related-0;medi...</td>\n    </tr>\n    <tr>\n      <th>26841</th>\n      <td>related-1;request-1;offer-0;aid_related-1;medi...</td>\n    </tr>\n    <tr>\n      <th>28070</th>\n      <td>related-0;request-0;offer-0;aid_related-0;medi...</td>\n    </tr>\n    <tr>\n      <th>13343</th>\n      <td>related-1;request-0;offer-0;aid_related-0;medi...</td>\n    </tr>\n    <tr>\n      <th>16724</th>\n      <td>related-1;request-0;offer-0;aid_related-1;medi...</td>\n    </tr>\n    <tr>\n      <th>15690</th>\n      <td>related-1;request-0;offer-0;aid_related-0;medi...</td>\n    </tr>\n    <tr>\n      <th>13668</th>\n      <td>related-1;request-0;offer-0;aid_related-0;medi...</td>\n    </tr>\n    <tr>\n      <th>18905</th>\n      <td>related-0;request-0;offer-0;aid_related-0;medi...</td>\n    </tr>\n    <tr>\n      <th>4969</th>\n      <td>related-1;request-1;offer-0;aid_related-1;medi...</td>\n    </tr>\n    <tr>\n      <th>2527</th>\n      <td>related-1;request-1;offer-0;aid_related-1;medi...</td>\n    </tr>\n  </tbody>\n</table>\n</div>"
     },
     "execution_count": 2,
     "metadata": {},
     "output_type": "execute_result"
    }
   ],
   "source": [
    "cats_raw_df = pd.read_csv(\"../data/disaster_categories.csv\", header=0, index_col='id')\n",
    "cats_raw_df.sample(20)"
   ],
   "metadata": {
    "collapsed": false,
    "pycharm": {
     "name": "#%%\n"
    }
   }
  },
  {
   "cell_type": "code",
   "execution_count": 3,
   "outputs": [],
   "source": [
    "def get_categories(df: pd.DataFrame):\n",
    "    \"\"\"\n",
    "    get category names from 1st item in data frame. assumes categories appear in same order in every row\n",
    "\n",
    "    :param df: data frame to sample\n",
    "    :return: list of category name strings\n",
    "    \"\"\"\n",
    "    tokens = df.iloc[0]['categories'].split(\";\")\n",
    "    return [tok.split(\"-\")[0] for tok in tokens]\n",
    "\n",
    "def get_category_values(line: str):\n",
    "    \"\"\"\n",
    "    Parse a message categories line, return values as list\n",
    "\n",
    "    :param line: categories string for single disaster message\n",
    "    :return: list of 1-hot encoded categories\n",
    "    \"\"\"\n",
    "    tokens = line.split(\";\")\n",
    "    return pd.Series([int(tok.split(\"-\")[1]) for tok in tokens])"
   ],
   "metadata": {
    "collapsed": false,
    "pycharm": {
     "name": "#%%\n"
    }
   }
  },
  {
   "cell_type": "code",
   "execution_count": 4,
   "outputs": [
    {
     "data": {
      "text/plain": "       related  request  offer  aid_related  medical_help  medical_products  \\\nid                                                                            \n5324         1        1      0            1             0                 0   \n13451        0        0      0            0             0                 0   \n7813         1        1      0            1             1                 1   \n28459        1        0      0            1             1                 0   \n29524        1        0      0            1             0                 0   \n22319        1        0      0            1             0                 0   \n23298        1        0      0            0             0                 0   \n7720         1        0      0            0             0                 0   \n10906        1        0      0            0             0                 0   \n21406        1        0      0            1             0                 1   \n21238        1        0      0            1             1                 1   \n18130        1        1      0            1             0                 0   \n20464        1        0      0            1             1                 0   \n16877        1        0      0            1             0                 0   \n12190        1        0      0            0             0                 0   \n23536        1        1      0            1             0                 1   \n28187        1        1      0            1             0                 1   \n19143        0        0      0            0             0                 0   \n7220         0        0      0            0             0                 0   \n27189        1        0      0            1             0                 0   \n\n       search_and_rescue  security  military  child_alone  ...  aid_centers  \\\nid                                                         ...                \n5324                   0         0         0            0  ...            0   \n13451                  0         0         0            0  ...            0   \n7813                   0         0         0            0  ...            0   \n28459                  0         0         0            0  ...            0   \n29524                  0         0         0            0  ...            0   \n22319                  0         0         0            0  ...            0   \n23298                  0         0         0            0  ...            0   \n7720                   0         0         0            0  ...            0   \n10906                  0         0         0            0  ...            0   \n21406                  0         0         0            0  ...            0   \n21238                  0         0         0            0  ...            0   \n18130                  1         0         0            0  ...            0   \n20464                  0         0         0            0  ...            0   \n16877                  0         0         0            0  ...            0   \n12190                  0         0         0            0  ...            0   \n23536                  0         0         0            0  ...            0   \n28187                  0         0         0            0  ...            1   \n19143                  0         0         0            0  ...            0   \n7220                   0         0         0            0  ...            0   \n27189                  0         0         1            0  ...            0   \n\n       other_infrastructure  weather_related  floods  storm  fire  earthquake  \\\nid                                                                              \n5324                      0                0       0      0     0           0   \n13451                     0                0       0      0     0           0   \n7813                      0                1       0      0     0           0   \n28459                     0                1       0      1     0           1   \n29524                     0                0       0      0     0           0   \n22319                     0                0       0      0     0           0   \n23298                     0                0       0      0     0           0   \n7720                      0                1       0      0     0           1   \n10906                     0                0       0      0     0           0   \n21406                     0                0       0      0     0           0   \n21238                     0                1       1      0     0           0   \n18130                     0                1       0      0     0           1   \n20464                     0                1       0      0     0           0   \n16877                     0                1       0      1     0           0   \n12190                     0                0       0      0     0           0   \n23536                     0                0       0      0     0           0   \n28187                     0                0       0      0     0           0   \n19143                     0                0       0      0     0           0   \n7220                      0                0       0      0     0           0   \n27189                     0                0       0      0     0           0   \n\n       cold  other_weather  direct_report  \nid                                         \n5324      0              0              0  \n13451     0              0              0  \n7813      0              1              1  \n28459     0              0              0  \n29524     0              0              0  \n22319     0              0              0  \n23298     0              0              0  \n7720      0              0              0  \n10906     0              0              0  \n21406     0              0              1  \n21238     0              0              0  \n18130     0              0              1  \n20464     1              0              0  \n16877     0              0              0  \n12190     0              0              1  \n23536     0              0              0  \n28187     0              0              0  \n19143     0              0              0  \n7220      0              0              0  \n27189     0              0              0  \n\n[20 rows x 36 columns]",
      "text/html": "<div>\n<style scoped>\n    .dataframe tbody tr th:only-of-type {\n        vertical-align: middle;\n    }\n\n    .dataframe tbody tr th {\n        vertical-align: top;\n    }\n\n    .dataframe thead th {\n        text-align: right;\n    }\n</style>\n<table border=\"1\" class=\"dataframe\">\n  <thead>\n    <tr style=\"text-align: right;\">\n      <th></th>\n      <th>related</th>\n      <th>request</th>\n      <th>offer</th>\n      <th>aid_related</th>\n      <th>medical_help</th>\n      <th>medical_products</th>\n      <th>search_and_rescue</th>\n      <th>security</th>\n      <th>military</th>\n      <th>child_alone</th>\n      <th>...</th>\n      <th>aid_centers</th>\n      <th>other_infrastructure</th>\n      <th>weather_related</th>\n      <th>floods</th>\n      <th>storm</th>\n      <th>fire</th>\n      <th>earthquake</th>\n      <th>cold</th>\n      <th>other_weather</th>\n      <th>direct_report</th>\n    </tr>\n    <tr>\n      <th>id</th>\n      <th></th>\n      <th></th>\n      <th></th>\n      <th></th>\n      <th></th>\n      <th></th>\n      <th></th>\n      <th></th>\n      <th></th>\n      <th></th>\n      <th></th>\n      <th></th>\n      <th></th>\n      <th></th>\n      <th></th>\n      <th></th>\n      <th></th>\n      <th></th>\n      <th></th>\n      <th></th>\n      <th></th>\n    </tr>\n  </thead>\n  <tbody>\n    <tr>\n      <th>5324</th>\n      <td>1</td>\n      <td>1</td>\n      <td>0</td>\n      <td>1</td>\n      <td>0</td>\n      <td>0</td>\n      <td>0</td>\n      <td>0</td>\n      <td>0</td>\n      <td>0</td>\n      <td>...</td>\n      <td>0</td>\n      <td>0</td>\n      <td>0</td>\n      <td>0</td>\n      <td>0</td>\n      <td>0</td>\n      <td>0</td>\n      <td>0</td>\n      <td>0</td>\n      <td>0</td>\n    </tr>\n    <tr>\n      <th>13451</th>\n      <td>0</td>\n      <td>0</td>\n      <td>0</td>\n      <td>0</td>\n      <td>0</td>\n      <td>0</td>\n      <td>0</td>\n      <td>0</td>\n      <td>0</td>\n      <td>0</td>\n      <td>...</td>\n      <td>0</td>\n      <td>0</td>\n      <td>0</td>\n      <td>0</td>\n      <td>0</td>\n      <td>0</td>\n      <td>0</td>\n      <td>0</td>\n      <td>0</td>\n      <td>0</td>\n    </tr>\n    <tr>\n      <th>7813</th>\n      <td>1</td>\n      <td>1</td>\n      <td>0</td>\n      <td>1</td>\n      <td>1</td>\n      <td>1</td>\n      <td>0</td>\n      <td>0</td>\n      <td>0</td>\n      <td>0</td>\n      <td>...</td>\n      <td>0</td>\n      <td>0</td>\n      <td>1</td>\n      <td>0</td>\n      <td>0</td>\n      <td>0</td>\n      <td>0</td>\n      <td>0</td>\n      <td>1</td>\n      <td>1</td>\n    </tr>\n    <tr>\n      <th>28459</th>\n      <td>1</td>\n      <td>0</td>\n      <td>0</td>\n      <td>1</td>\n      <td>1</td>\n      <td>0</td>\n      <td>0</td>\n      <td>0</td>\n      <td>0</td>\n      <td>0</td>\n      <td>...</td>\n      <td>0</td>\n      <td>0</td>\n      <td>1</td>\n      <td>0</td>\n      <td>1</td>\n      <td>0</td>\n      <td>1</td>\n      <td>0</td>\n      <td>0</td>\n      <td>0</td>\n    </tr>\n    <tr>\n      <th>29524</th>\n      <td>1</td>\n      <td>0</td>\n      <td>0</td>\n      <td>1</td>\n      <td>0</td>\n      <td>0</td>\n      <td>0</td>\n      <td>0</td>\n      <td>0</td>\n      <td>0</td>\n      <td>...</td>\n      <td>0</td>\n      <td>0</td>\n      <td>0</td>\n      <td>0</td>\n      <td>0</td>\n      <td>0</td>\n      <td>0</td>\n      <td>0</td>\n      <td>0</td>\n      <td>0</td>\n    </tr>\n    <tr>\n      <th>22319</th>\n      <td>1</td>\n      <td>0</td>\n      <td>0</td>\n      <td>1</td>\n      <td>0</td>\n      <td>0</td>\n      <td>0</td>\n      <td>0</td>\n      <td>0</td>\n      <td>0</td>\n      <td>...</td>\n      <td>0</td>\n      <td>0</td>\n      <td>0</td>\n      <td>0</td>\n      <td>0</td>\n      <td>0</td>\n      <td>0</td>\n      <td>0</td>\n      <td>0</td>\n      <td>0</td>\n    </tr>\n    <tr>\n      <th>23298</th>\n      <td>1</td>\n      <td>0</td>\n      <td>0</td>\n      <td>0</td>\n      <td>0</td>\n      <td>0</td>\n      <td>0</td>\n      <td>0</td>\n      <td>0</td>\n      <td>0</td>\n      <td>...</td>\n      <td>0</td>\n      <td>0</td>\n      <td>0</td>\n      <td>0</td>\n      <td>0</td>\n      <td>0</td>\n      <td>0</td>\n      <td>0</td>\n      <td>0</td>\n      <td>0</td>\n    </tr>\n    <tr>\n      <th>7720</th>\n      <td>1</td>\n      <td>0</td>\n      <td>0</td>\n      <td>0</td>\n      <td>0</td>\n      <td>0</td>\n      <td>0</td>\n      <td>0</td>\n      <td>0</td>\n      <td>0</td>\n      <td>...</td>\n      <td>0</td>\n      <td>0</td>\n      <td>1</td>\n      <td>0</td>\n      <td>0</td>\n      <td>0</td>\n      <td>1</td>\n      <td>0</td>\n      <td>0</td>\n      <td>0</td>\n    </tr>\n    <tr>\n      <th>10906</th>\n      <td>1</td>\n      <td>0</td>\n      <td>0</td>\n      <td>0</td>\n      <td>0</td>\n      <td>0</td>\n      <td>0</td>\n      <td>0</td>\n      <td>0</td>\n      <td>0</td>\n      <td>...</td>\n      <td>0</td>\n      <td>0</td>\n      <td>0</td>\n      <td>0</td>\n      <td>0</td>\n      <td>0</td>\n      <td>0</td>\n      <td>0</td>\n      <td>0</td>\n      <td>0</td>\n    </tr>\n    <tr>\n      <th>21406</th>\n      <td>1</td>\n      <td>0</td>\n      <td>0</td>\n      <td>1</td>\n      <td>0</td>\n      <td>1</td>\n      <td>0</td>\n      <td>0</td>\n      <td>0</td>\n      <td>0</td>\n      <td>...</td>\n      <td>0</td>\n      <td>0</td>\n      <td>0</td>\n      <td>0</td>\n      <td>0</td>\n      <td>0</td>\n      <td>0</td>\n      <td>0</td>\n      <td>0</td>\n      <td>1</td>\n    </tr>\n    <tr>\n      <th>21238</th>\n      <td>1</td>\n      <td>0</td>\n      <td>0</td>\n      <td>1</td>\n      <td>1</td>\n      <td>1</td>\n      <td>0</td>\n      <td>0</td>\n      <td>0</td>\n      <td>0</td>\n      <td>...</td>\n      <td>0</td>\n      <td>0</td>\n      <td>1</td>\n      <td>1</td>\n      <td>0</td>\n      <td>0</td>\n      <td>0</td>\n      <td>0</td>\n      <td>0</td>\n      <td>0</td>\n    </tr>\n    <tr>\n      <th>18130</th>\n      <td>1</td>\n      <td>1</td>\n      <td>0</td>\n      <td>1</td>\n      <td>0</td>\n      <td>0</td>\n      <td>1</td>\n      <td>0</td>\n      <td>0</td>\n      <td>0</td>\n      <td>...</td>\n      <td>0</td>\n      <td>0</td>\n      <td>1</td>\n      <td>0</td>\n      <td>0</td>\n      <td>0</td>\n      <td>1</td>\n      <td>0</td>\n      <td>0</td>\n      <td>1</td>\n    </tr>\n    <tr>\n      <th>20464</th>\n      <td>1</td>\n      <td>0</td>\n      <td>0</td>\n      <td>1</td>\n      <td>1</td>\n      <td>0</td>\n      <td>0</td>\n      <td>0</td>\n      <td>0</td>\n      <td>0</td>\n      <td>...</td>\n      <td>0</td>\n      <td>0</td>\n      <td>1</td>\n      <td>0</td>\n      <td>0</td>\n      <td>0</td>\n      <td>0</td>\n      <td>1</td>\n      <td>0</td>\n      <td>0</td>\n    </tr>\n    <tr>\n      <th>16877</th>\n      <td>1</td>\n      <td>0</td>\n      <td>0</td>\n      <td>1</td>\n      <td>0</td>\n      <td>0</td>\n      <td>0</td>\n      <td>0</td>\n      <td>0</td>\n      <td>0</td>\n      <td>...</td>\n      <td>0</td>\n      <td>0</td>\n      <td>1</td>\n      <td>0</td>\n      <td>1</td>\n      <td>0</td>\n      <td>0</td>\n      <td>0</td>\n      <td>0</td>\n      <td>0</td>\n    </tr>\n    <tr>\n      <th>12190</th>\n      <td>1</td>\n      <td>0</td>\n      <td>0</td>\n      <td>0</td>\n      <td>0</td>\n      <td>0</td>\n      <td>0</td>\n      <td>0</td>\n      <td>0</td>\n      <td>0</td>\n      <td>...</td>\n      <td>0</td>\n      <td>0</td>\n      <td>0</td>\n      <td>0</td>\n      <td>0</td>\n      <td>0</td>\n      <td>0</td>\n      <td>0</td>\n      <td>0</td>\n      <td>1</td>\n    </tr>\n    <tr>\n      <th>23536</th>\n      <td>1</td>\n      <td>1</td>\n      <td>0</td>\n      <td>1</td>\n      <td>0</td>\n      <td>1</td>\n      <td>0</td>\n      <td>0</td>\n      <td>0</td>\n      <td>0</td>\n      <td>...</td>\n      <td>0</td>\n      <td>0</td>\n      <td>0</td>\n      <td>0</td>\n      <td>0</td>\n      <td>0</td>\n      <td>0</td>\n      <td>0</td>\n      <td>0</td>\n      <td>0</td>\n    </tr>\n    <tr>\n      <th>28187</th>\n      <td>1</td>\n      <td>1</td>\n      <td>0</td>\n      <td>1</td>\n      <td>0</td>\n      <td>1</td>\n      <td>0</td>\n      <td>0</td>\n      <td>0</td>\n      <td>0</td>\n      <td>...</td>\n      <td>1</td>\n      <td>0</td>\n      <td>0</td>\n      <td>0</td>\n      <td>0</td>\n      <td>0</td>\n      <td>0</td>\n      <td>0</td>\n      <td>0</td>\n      <td>0</td>\n    </tr>\n    <tr>\n      <th>19143</th>\n      <td>0</td>\n      <td>0</td>\n      <td>0</td>\n      <td>0</td>\n      <td>0</td>\n      <td>0</td>\n      <td>0</td>\n      <td>0</td>\n      <td>0</td>\n      <td>0</td>\n      <td>...</td>\n      <td>0</td>\n      <td>0</td>\n      <td>0</td>\n      <td>0</td>\n      <td>0</td>\n      <td>0</td>\n      <td>0</td>\n      <td>0</td>\n      <td>0</td>\n      <td>0</td>\n    </tr>\n    <tr>\n      <th>7220</th>\n      <td>0</td>\n      <td>0</td>\n      <td>0</td>\n      <td>0</td>\n      <td>0</td>\n      <td>0</td>\n      <td>0</td>\n      <td>0</td>\n      <td>0</td>\n      <td>0</td>\n      <td>...</td>\n      <td>0</td>\n      <td>0</td>\n      <td>0</td>\n      <td>0</td>\n      <td>0</td>\n      <td>0</td>\n      <td>0</td>\n      <td>0</td>\n      <td>0</td>\n      <td>0</td>\n    </tr>\n    <tr>\n      <th>27189</th>\n      <td>1</td>\n      <td>0</td>\n      <td>0</td>\n      <td>1</td>\n      <td>0</td>\n      <td>0</td>\n      <td>0</td>\n      <td>0</td>\n      <td>1</td>\n      <td>0</td>\n      <td>...</td>\n      <td>0</td>\n      <td>0</td>\n      <td>0</td>\n      <td>0</td>\n      <td>0</td>\n      <td>0</td>\n      <td>0</td>\n      <td>0</td>\n      <td>0</td>\n      <td>0</td>\n    </tr>\n  </tbody>\n</table>\n<p>20 rows × 36 columns</p>\n</div>"
     },
     "execution_count": 4,
     "metadata": {},
     "output_type": "execute_result"
    }
   ],
   "source": [
    "columns = get_categories(cats_raw_df)\n",
    "test = cats_raw_df['categories'].apply(get_category_values)\n",
    "test.columns = columns\n",
    "test.sample(20)"
   ],
   "metadata": {
    "collapsed": false,
    "pycharm": {
     "name": "#%%\n"
    }
   }
  },
  {
   "cell_type": "code",
   "execution_count": 5,
   "outputs": [
    {
     "data": {
      "text/plain": "related                   26248\nrequest                   26248\noffer                     26248\naid_related               26248\nmedical_help              26248\nmedical_products          26248\nsearch_and_rescue         26248\nsecurity                  26248\nmilitary                  26248\nchild_alone               26248\nwater                     26248\nfood                      26248\nshelter                   26248\nclothing                  26248\nmoney                     26248\nmissing_people            26248\nrefugees                  26248\ndeath                     26248\nother_aid                 26248\ninfrastructure_related    26248\ntransport                 26248\nbuildings                 26248\nelectricity               26248\ntools                     26248\nhospitals                 26248\nshops                     26248\naid_centers               26248\nother_infrastructure      26248\nweather_related           26248\nfloods                    26248\nstorm                     26248\nfire                      26248\nearthquake                26248\ncold                      26248\nother_weather             26248\ndirect_report             26248\ndtype: int64"
     },
     "execution_count": 5,
     "metadata": {},
     "output_type": "execute_result"
    }
   ],
   "source": [
    "# number of valid entries\n",
    "test.count()"
   ],
   "metadata": {
    "collapsed": false,
    "pycharm": {
     "name": "#%%\n"
    }
   }
  },
  {
   "cell_type": "code",
   "execution_count": 6,
   "outputs": [
    {
     "data": {
      "text/plain": "related                   20316\nrequest                    4480\noffer                       119\naid_related               10878\nmedical_help               2087\nmedical_products           1314\nsearch_and_rescue           724\nsecurity                    471\nmilitary                    860\nchild_alone                   0\nwater                      1674\nfood                       2930\nshelter                    2319\nclothing                    406\nmoney                       604\nmissing_people              299\nrefugees                    876\ndeath                      1196\nother_aid                  3448\ninfrastructure_related     1705\ntransport                  1203\nbuildings                  1335\nelectricity                 534\ntools                       159\nhospitals                   283\nshops                       120\naid_centers                 309\nother_infrastructure       1151\nweather_related            7304\nfloods                     2158\nstorm                      2448\nfire                        282\nearthquake                 2455\ncold                        530\nother_weather              1376\ndirect_report              5081\ndtype: int64"
     },
     "execution_count": 6,
     "metadata": {},
     "output_type": "execute_result"
    }
   ],
   "source": [
    "# number of messages with category\n",
    "test.sum()"
   ],
   "metadata": {
    "collapsed": false,
    "pycharm": {
     "name": "#%%\n"
    }
   }
  },
  {
   "cell_type": "code",
   "execution_count": 7,
   "outputs": [
    {
     "data": {
      "text/plain": "related                   0.774002\nrequest                   0.170680\noffer                     0.004534\naid_related               0.414432\nmedical_help              0.079511\nmedical_products          0.050061\nsearch_and_rescue         0.027583\nsecurity                  0.017944\nmilitary                  0.032764\nchild_alone               0.000000\nwater                     0.063776\nfood                      0.111628\nshelter                   0.088350\nclothing                  0.015468\nmoney                     0.023011\nmissing_people            0.011391\nrefugees                  0.033374\ndeath                     0.045565\nother_aid                 0.131362\ninfrastructure_related    0.064957\ntransport                 0.045832\nbuildings                 0.050861\nelectricity               0.020344\ntools                     0.006058\nhospitals                 0.010782\nshops                     0.004572\naid_centers               0.011772\nother_infrastructure      0.043851\nweather_related           0.278269\nfloods                    0.082216\nstorm                     0.093264\nfire                      0.010744\nearthquake                0.093531\ncold                      0.020192\nother_weather             0.052423\ndirect_report             0.193577\ndtype: float64"
     },
     "execution_count": 7,
     "metadata": {},
     "output_type": "execute_result"
    }
   ],
   "source": [
    "# fraction of messages with category\n",
    "test.sum() / test.count()"
   ],
   "metadata": {
    "collapsed": false,
    "pycharm": {
     "name": "#%%\n"
    }
   }
  },
  {
   "cell_type": "markdown",
   "source": [
    "## Exploring messages"
   ],
   "metadata": {
    "collapsed": false,
    "pycharm": {
     "name": "#%% md\n"
    }
   }
  },
  {
   "cell_type": "code",
   "execution_count": 8,
   "outputs": [
    {
     "data": {
      "text/plain": "                                                 message  \\\nid                                                         \n25051  Poor soil exacerbates the drainage problems, l...   \n6857   No Problems. I will give the message to my peo...   \n9844         tell us what will have for tonight please?    \n22031  Antibiotics and IV's can prevent infections fr...   \n15602  Some of the NYC Marathon participants will be ...   \n14839  I'm down for this hurricane as long as we don'...   \n12453  We have a group of Orange County California fa...   \n25530  Responding to a call by the PIF Leaders to con...   \n16532  Referring to the devastating earthquake that s...   \n18719  DOHA, Nov 11 (AFP) - Qatar announced Sunday it...   \n27459  More than 40 people who had spent a night in c...   \n6443   I'm asking some information on how can I get s...   \n9656      what must do with a baby in the rains season?    \n18994  Similarly, in the district of Gorontalo, North...   \n22238  In addition, the valuables at homes were wiped...   \n7510   if he/it pleases you my brothers help me has f...   \n12276  Everyone 's tweets yesterday included .. Sandy...   \n2749   I'm unable - all of my family was killed I've ...   \n9590   I want to know the phone number of the Nationa...   \n11719  Earthquake Pictures | Earthquake Photo | Earth...   \n\n                                                original   genre  \nid                                                                \n25051                                                NaN    news  \n6857   Pa gen problem. Map tou profite fe mesaj la pa...  direct  \n9844                Di nou kisa ki genyen pou asw a svp.  direct  \n22031                                                NaN    news  \n15602                                                NaN  social  \n14839                                                NaN  social  \n12453                                                NaN  direct  \n25530                                                NaN    news  \n16532                                                NaN    news  \n18719                                                NaN    news  \n27459                                                NaN    news  \n6443   Map mande s v p yon ti enfomasyo sou ki mwayen...  direct  \n9656   Kisa pou yon moun fe nan ka gwo lapli ak yon bebe  direct  \n18994                                                NaN    news  \n22238                                                NaN    news  \n7510   me zanmi nou banm yon tipase men non svp, pou ...  direct  \n12276                                                NaN  social  \n2749   MWEN PA KAPAB TOUT FANMIY MWEN MOURI KAY MWEN ...  direct  \n9590   Nimewo telefonn sevis pou klyan nan achiv nasy...  direct  \n11719                                                NaN  social  ",
      "text/html": "<div>\n<style scoped>\n    .dataframe tbody tr th:only-of-type {\n        vertical-align: middle;\n    }\n\n    .dataframe tbody tr th {\n        vertical-align: top;\n    }\n\n    .dataframe thead th {\n        text-align: right;\n    }\n</style>\n<table border=\"1\" class=\"dataframe\">\n  <thead>\n    <tr style=\"text-align: right;\">\n      <th></th>\n      <th>message</th>\n      <th>original</th>\n      <th>genre</th>\n    </tr>\n    <tr>\n      <th>id</th>\n      <th></th>\n      <th></th>\n      <th></th>\n    </tr>\n  </thead>\n  <tbody>\n    <tr>\n      <th>25051</th>\n      <td>Poor soil exacerbates the drainage problems, l...</td>\n      <td>NaN</td>\n      <td>news</td>\n    </tr>\n    <tr>\n      <th>6857</th>\n      <td>No Problems. I will give the message to my peo...</td>\n      <td>Pa gen problem. Map tou profite fe mesaj la pa...</td>\n      <td>direct</td>\n    </tr>\n    <tr>\n      <th>9844</th>\n      <td>tell us what will have for tonight please?</td>\n      <td>Di nou kisa ki genyen pou asw a svp.</td>\n      <td>direct</td>\n    </tr>\n    <tr>\n      <th>22031</th>\n      <td>Antibiotics and IV's can prevent infections fr...</td>\n      <td>NaN</td>\n      <td>news</td>\n    </tr>\n    <tr>\n      <th>15602</th>\n      <td>Some of the NYC Marathon participants will be ...</td>\n      <td>NaN</td>\n      <td>social</td>\n    </tr>\n    <tr>\n      <th>14839</th>\n      <td>I'm down for this hurricane as long as we don'...</td>\n      <td>NaN</td>\n      <td>social</td>\n    </tr>\n    <tr>\n      <th>12453</th>\n      <td>We have a group of Orange County California fa...</td>\n      <td>NaN</td>\n      <td>direct</td>\n    </tr>\n    <tr>\n      <th>25530</th>\n      <td>Responding to a call by the PIF Leaders to con...</td>\n      <td>NaN</td>\n      <td>news</td>\n    </tr>\n    <tr>\n      <th>16532</th>\n      <td>Referring to the devastating earthquake that s...</td>\n      <td>NaN</td>\n      <td>news</td>\n    </tr>\n    <tr>\n      <th>18719</th>\n      <td>DOHA, Nov 11 (AFP) - Qatar announced Sunday it...</td>\n      <td>NaN</td>\n      <td>news</td>\n    </tr>\n    <tr>\n      <th>27459</th>\n      <td>More than 40 people who had spent a night in c...</td>\n      <td>NaN</td>\n      <td>news</td>\n    </tr>\n    <tr>\n      <th>6443</th>\n      <td>I'm asking some information on how can I get s...</td>\n      <td>Map mande s v p yon ti enfomasyo sou ki mwayen...</td>\n      <td>direct</td>\n    </tr>\n    <tr>\n      <th>9656</th>\n      <td>what must do with a baby in the rains season?</td>\n      <td>Kisa pou yon moun fe nan ka gwo lapli ak yon bebe</td>\n      <td>direct</td>\n    </tr>\n    <tr>\n      <th>18994</th>\n      <td>Similarly, in the district of Gorontalo, North...</td>\n      <td>NaN</td>\n      <td>news</td>\n    </tr>\n    <tr>\n      <th>22238</th>\n      <td>In addition, the valuables at homes were wiped...</td>\n      <td>NaN</td>\n      <td>news</td>\n    </tr>\n    <tr>\n      <th>7510</th>\n      <td>if he/it pleases you my brothers help me has f...</td>\n      <td>me zanmi nou banm yon tipase men non svp, pou ...</td>\n      <td>direct</td>\n    </tr>\n    <tr>\n      <th>12276</th>\n      <td>Everyone 's tweets yesterday included .. Sandy...</td>\n      <td>NaN</td>\n      <td>social</td>\n    </tr>\n    <tr>\n      <th>2749</th>\n      <td>I'm unable - all of my family was killed I've ...</td>\n      <td>MWEN PA KAPAB TOUT FANMIY MWEN MOURI KAY MWEN ...</td>\n      <td>direct</td>\n    </tr>\n    <tr>\n      <th>9590</th>\n      <td>I want to know the phone number of the Nationa...</td>\n      <td>Nimewo telefonn sevis pou klyan nan achiv nasy...</td>\n      <td>direct</td>\n    </tr>\n    <tr>\n      <th>11719</th>\n      <td>Earthquake Pictures | Earthquake Photo | Earth...</td>\n      <td>NaN</td>\n      <td>social</td>\n    </tr>\n  </tbody>\n</table>\n</div>"
     },
     "execution_count": 8,
     "metadata": {},
     "output_type": "execute_result"
    }
   ],
   "source": [
    "msg_raw = pd.read_csv(\"../data/disaster_messages.csv\", header=0, index_col='id')\n",
    "msg_raw.sample(20)"
   ],
   "metadata": {
    "collapsed": false,
    "pycharm": {
     "name": "#%%\n"
    }
   }
  },
  {
   "cell_type": "code",
   "source": [
    "# distribution of message genres\n",
    "msg_raw['genre'].value_counts()"
   ],
   "metadata": {
    "collapsed": false,
    "pycharm": {
     "name": "#%%\n"
    }
   },
   "execution_count": 9,
   "outputs": [
    {
     "data": {
      "text/plain": "news      13068\ndirect    10782\nsocial     2398\nName: genre, dtype: int64"
     },
     "execution_count": 9,
     "metadata": {},
     "output_type": "execute_result"
    }
   ]
  },
  {
   "cell_type": "code",
   "execution_count": 10,
   "outputs": [
    {
     "data": {
      "text/plain": "0.3879914660164584"
     },
     "execution_count": 10,
     "metadata": {},
     "output_type": "execute_result"
    }
   ],
   "source": [
    "# fraction of messages that have an original in a different language\n",
    "msg_raw['original'].count() / len(msg_raw)"
   ],
   "metadata": {
    "collapsed": false,
    "pycharm": {
     "name": "#%%\n"
    }
   }
  },
  {
   "cell_type": "code",
   "execution_count": 11,
   "outputs": [
    {
     "data": {
      "text/plain": "        message  original\ngenre                    \ndirect    10782     10184\nnews      13068         0\nsocial     2398         0",
      "text/html": "<div>\n<style scoped>\n    .dataframe tbody tr th:only-of-type {\n        vertical-align: middle;\n    }\n\n    .dataframe tbody tr th {\n        vertical-align: top;\n    }\n\n    .dataframe thead th {\n        text-align: right;\n    }\n</style>\n<table border=\"1\" class=\"dataframe\">\n  <thead>\n    <tr style=\"text-align: right;\">\n      <th></th>\n      <th>message</th>\n      <th>original</th>\n    </tr>\n    <tr>\n      <th>genre</th>\n      <th></th>\n      <th></th>\n    </tr>\n  </thead>\n  <tbody>\n    <tr>\n      <th>direct</th>\n      <td>10782</td>\n      <td>10184</td>\n    </tr>\n    <tr>\n      <th>news</th>\n      <td>13068</td>\n      <td>0</td>\n    </tr>\n    <tr>\n      <th>social</th>\n      <td>2398</td>\n      <td>0</td>\n    </tr>\n  </tbody>\n</table>\n</div>"
     },
     "execution_count": 11,
     "metadata": {},
     "output_type": "execute_result"
    }
   ],
   "source": [
    "# message counts by genre\n",
    "msg_raw.groupby('genre').count()"
   ],
   "metadata": {
    "collapsed": false,
    "pycharm": {
     "name": "#%%\n"
    }
   }
  },
  {
   "cell_type": "code",
   "execution_count": 11,
   "outputs": [],
   "source": [],
   "metadata": {
    "collapsed": false,
    "pycharm": {
     "name": "#%%\n"
    }
   }
  },
  {
   "cell_type": "code",
   "execution_count": 12,
   "outputs": [
    {
     "data": {
      "text/plain": "                                                 message  \\\nid                                                         \n3539                  NOTES: Personal. Not an emergency.   \n3579            NOTES: aclet dry We are counting on you.   \n3583                     NOTES: talking about gas prices   \n3651                NOTES: Historic earthquake in Haiti.   \n3737   NOTES: They are requesting that somebody to pa...   \n...                                                  ...   \n11161  NOTES: I already translated the message is not...   \n11167      NOTES: this messsage doesn't concern this job   \n11168  NOTES: This text is not clear. it doesn't has ...   \n11171  NOTES: I allready translate this message, it's...   \n11172           NOTES: I allready translate thi message.   \n\n                                                original   genre  \nid                                                                \n3539   prezidan preval mande,pou tout moun ki konn bw...  direct  \n3579                  aclet dry. nous comptons sur vous.  direct  \n3583   GEN SERI DE MESAJ FOK NOU TA BIEN PRECIZE YO L...  direct  \n3651                 istorik tranblemannte an ayiti svp,  direct  \n3737   Mesaj avek la otorite sil vou ple mezanmi pase...  direct  \n...                                                  ...     ...  \n11161  Je vous salut dans le nom de Dieu merci a la r...  direct  \n11167  metenan je te salye nan nom jesus ti na pa ape...  direct  \n11168                  BEGIN:VCARD N:W TEL:999 END:VCARD  direct  \n11171  Mw se rolain mw ta renmen konnen Eske pa gen k...  direct  \n11172  n'ap fe yon bon travay.m remsye nou pou tout e...  direct  \n\n[331 rows x 3 columns]",
      "text/html": "<div>\n<style scoped>\n    .dataframe tbody tr th:only-of-type {\n        vertical-align: middle;\n    }\n\n    .dataframe tbody tr th {\n        vertical-align: top;\n    }\n\n    .dataframe thead th {\n        text-align: right;\n    }\n</style>\n<table border=\"1\" class=\"dataframe\">\n  <thead>\n    <tr style=\"text-align: right;\">\n      <th></th>\n      <th>message</th>\n      <th>original</th>\n      <th>genre</th>\n    </tr>\n    <tr>\n      <th>id</th>\n      <th></th>\n      <th></th>\n      <th></th>\n    </tr>\n  </thead>\n  <tbody>\n    <tr>\n      <th>3539</th>\n      <td>NOTES: Personal. Not an emergency.</td>\n      <td>prezidan preval mande,pou tout moun ki konn bw...</td>\n      <td>direct</td>\n    </tr>\n    <tr>\n      <th>3579</th>\n      <td>NOTES: aclet dry We are counting on you.</td>\n      <td>aclet dry. nous comptons sur vous.</td>\n      <td>direct</td>\n    </tr>\n    <tr>\n      <th>3583</th>\n      <td>NOTES: talking about gas prices</td>\n      <td>GEN SERI DE MESAJ FOK NOU TA BIEN PRECIZE YO L...</td>\n      <td>direct</td>\n    </tr>\n    <tr>\n      <th>3651</th>\n      <td>NOTES: Historic earthquake in Haiti.</td>\n      <td>istorik tranblemannte an ayiti svp,</td>\n      <td>direct</td>\n    </tr>\n    <tr>\n      <th>3737</th>\n      <td>NOTES: They are requesting that somebody to pa...</td>\n      <td>Mesaj avek la otorite sil vou ple mezanmi pase...</td>\n      <td>direct</td>\n    </tr>\n    <tr>\n      <th>...</th>\n      <td>...</td>\n      <td>...</td>\n      <td>...</td>\n    </tr>\n    <tr>\n      <th>11161</th>\n      <td>NOTES: I already translated the message is not...</td>\n      <td>Je vous salut dans le nom de Dieu merci a la r...</td>\n      <td>direct</td>\n    </tr>\n    <tr>\n      <th>11167</th>\n      <td>NOTES: this messsage doesn't concern this job</td>\n      <td>metenan je te salye nan nom jesus ti na pa ape...</td>\n      <td>direct</td>\n    </tr>\n    <tr>\n      <th>11168</th>\n      <td>NOTES: This text is not clear. it doesn't has ...</td>\n      <td>BEGIN:VCARD N:W TEL:999 END:VCARD</td>\n      <td>direct</td>\n    </tr>\n    <tr>\n      <th>11171</th>\n      <td>NOTES: I allready translate this message, it's...</td>\n      <td>Mw se rolain mw ta renmen konnen Eske pa gen k...</td>\n      <td>direct</td>\n    </tr>\n    <tr>\n      <th>11172</th>\n      <td>NOTES: I allready translate thi message.</td>\n      <td>n'ap fe yon bon travay.m remsye nou pou tout e...</td>\n      <td>direct</td>\n    </tr>\n  </tbody>\n</table>\n<p>331 rows × 3 columns</p>\n</div>"
     },
     "execution_count": 12,
     "metadata": {},
     "output_type": "execute_result"
    }
   ],
   "source": [
    "# some messages have NOTES\n",
    "noted_msg = msg_raw.loc[msg_raw['message'].str.contains('NOTES')]\n",
    "noted_msg"
   ],
   "metadata": {
    "collapsed": false,
    "pycharm": {
     "name": "#%%\n"
    }
   }
  },
  {
   "cell_type": "code",
   "execution_count": 13,
   "outputs": [
    {
     "data": {
      "text/plain": "Int64Index([ 3539,  3579,  3583,  3651,  3737,  3761,  3775,  3820,  3871,\n             3877,\n            ...\n            11100, 11109, 11110, 11138, 11143, 11161, 11167, 11168, 11171,\n            11172],\n           dtype='int64', name='id', length=331)"
     },
     "execution_count": 13,
     "metadata": {},
     "output_type": "execute_result"
    }
   ],
   "source": [
    "# get noted indices for dropping\n",
    "noted_msg.index"
   ],
   "metadata": {
    "collapsed": false,
    "pycharm": {
     "name": "#%%\n"
    }
   }
  },
  {
   "cell_type": "code",
   "execution_count": 14,
   "outputs": [
    {
     "data": {
      "text/plain": "                                                 message  \\\nid                                                         \n2      Weather update - a cold front from Cuba that c...   \n7                Is the Hurricane over or is it not over   \n8                        Looking for someone but no name   \n9      UN reports Leogane 80-90 destroyed. Only Hospi...   \n12     says: west side of Haiti, rest of the country ...   \n...                                                  ...   \n30261  The training demonstrated how to enhance micro...   \n30262  A suitable candidate has been selected and OCH...   \n30263  Proshika, operating in Cox's Bazar municipalit...   \n30264  Some 2,000 women protesting against the conduc...   \n30265  A radical shift in thinking came about as a re...   \n\n                                                original   genre  \nid                                                                \n2      Un front froid se retrouve sur Cuba ce matin. ...  direct  \n7                     Cyclone nan fini osinon li pa fini  direct  \n8      Patnm, di Maryani relem pou li banm nouvel li ...  direct  \n9      UN reports Leogane 80-90 destroyed. Only Hospi...  direct  \n12     facade ouest d Haiti et le reste du pays aujou...  direct  \n...                                                  ...     ...  \n30261                                                NaN    news  \n30262                                                NaN    news  \n30263                                                NaN    news  \n30264                                                NaN    news  \n30265                                                NaN    news  \n\n[25917 rows x 3 columns]",
      "text/html": "<div>\n<style scoped>\n    .dataframe tbody tr th:only-of-type {\n        vertical-align: middle;\n    }\n\n    .dataframe tbody tr th {\n        vertical-align: top;\n    }\n\n    .dataframe thead th {\n        text-align: right;\n    }\n</style>\n<table border=\"1\" class=\"dataframe\">\n  <thead>\n    <tr style=\"text-align: right;\">\n      <th></th>\n      <th>message</th>\n      <th>original</th>\n      <th>genre</th>\n    </tr>\n    <tr>\n      <th>id</th>\n      <th></th>\n      <th></th>\n      <th></th>\n    </tr>\n  </thead>\n  <tbody>\n    <tr>\n      <th>2</th>\n      <td>Weather update - a cold front from Cuba that c...</td>\n      <td>Un front froid se retrouve sur Cuba ce matin. ...</td>\n      <td>direct</td>\n    </tr>\n    <tr>\n      <th>7</th>\n      <td>Is the Hurricane over or is it not over</td>\n      <td>Cyclone nan fini osinon li pa fini</td>\n      <td>direct</td>\n    </tr>\n    <tr>\n      <th>8</th>\n      <td>Looking for someone but no name</td>\n      <td>Patnm, di Maryani relem pou li banm nouvel li ...</td>\n      <td>direct</td>\n    </tr>\n    <tr>\n      <th>9</th>\n      <td>UN reports Leogane 80-90 destroyed. Only Hospi...</td>\n      <td>UN reports Leogane 80-90 destroyed. Only Hospi...</td>\n      <td>direct</td>\n    </tr>\n    <tr>\n      <th>12</th>\n      <td>says: west side of Haiti, rest of the country ...</td>\n      <td>facade ouest d Haiti et le reste du pays aujou...</td>\n      <td>direct</td>\n    </tr>\n    <tr>\n      <th>...</th>\n      <td>...</td>\n      <td>...</td>\n      <td>...</td>\n    </tr>\n    <tr>\n      <th>30261</th>\n      <td>The training demonstrated how to enhance micro...</td>\n      <td>NaN</td>\n      <td>news</td>\n    </tr>\n    <tr>\n      <th>30262</th>\n      <td>A suitable candidate has been selected and OCH...</td>\n      <td>NaN</td>\n      <td>news</td>\n    </tr>\n    <tr>\n      <th>30263</th>\n      <td>Proshika, operating in Cox's Bazar municipalit...</td>\n      <td>NaN</td>\n      <td>news</td>\n    </tr>\n    <tr>\n      <th>30264</th>\n      <td>Some 2,000 women protesting against the conduc...</td>\n      <td>NaN</td>\n      <td>news</td>\n    </tr>\n    <tr>\n      <th>30265</th>\n      <td>A radical shift in thinking came about as a re...</td>\n      <td>NaN</td>\n      <td>news</td>\n    </tr>\n  </tbody>\n</table>\n<p>25917 rows × 3 columns</p>\n</div>"
     },
     "execution_count": 14,
     "metadata": {},
     "output_type": "execute_result"
    }
   ],
   "source": [
    "# drop noted messages\n",
    "cleaned_msg = msg_raw.drop(noted_msg.index, axis=0)\n",
    "cleaned_msg"
   ],
   "metadata": {
    "collapsed": false,
    "pycharm": {
     "name": "#%%\n"
    }
   }
  },
  {
   "cell_type": "code",
   "execution_count": 18,
   "outputs": [],
   "source": [
    "unified = msg_raw.join(test)"
   ],
   "metadata": {
    "collapsed": false,
    "pycharm": {
     "name": "#%%\n"
    }
   }
  },
  {
   "cell_type": "code",
   "execution_count": 23,
   "outputs": [],
   "source": [
    "gmc = unified.groupby('genre').sum()"
   ],
   "metadata": {
    "collapsed": false,
    "pycharm": {
     "name": "#%%\n"
    }
   }
  },
  {
   "cell_type": "code",
   "execution_count": 24,
   "outputs": [
    {
     "data": {
      "text/plain": "[related                   7534\n request                   3727\n offer                       49\n aid_related               4378\n medical_help               597\n medical_products           472\n search_and_rescue          217\n security                   131\n military                    47\n child_alone                  0\n water                      846\n food                      1829\n shelter                   1165\n clothing                   252\n money                      148\n missing_people              86\n refugees                   175\n death                      254\n other_aid                 1584\n infrastructure_related     330\n transport                  210\n buildings                  397\n electricity                 84\n tools                       33\n hospitals                   54\n shops                       33\n aid_centers                 78\n other_infrastructure       189\n weather_related           1534\n floods                     309\n storm                      320\n fire                        41\n earthquake                 798\n cold                        63\n other_weather              208\n direct_report             3641\n Name: direct, dtype: int64,\n related                   10776\n request                     611\n offer                        65\n aid_related                5909\n medical_help               1425\n medical_products            798\n search_and_rescue           441\n security                    292\n military                    803\n child_alone                   0\n water                       792\n food                       1015\n shelter                    1128\n clothing                    135\n money                       381\n missing_people              168\n refugees                    670\n death                       868\n other_aid                  1570\n infrastructure_related     1231\n transport                   880\n buildings                   835\n electricity                 327\n tools                       114\n hospitals                   202\n shops                        68\n aid_centers                 218\n other_infrastructure        867\n weather_related            4308\n floods                     1764\n storm                      1458\n fire                        225\n earthquake                  912\n cold                        418\n other_weather              1054\n direct_report               856\n Name: news, dtype: int64,\n related                   2140\n request                    175\n offer                        7\n aid_related                667\n medical_help                77\n medical_products            49\n search_and_rescue           67\n security                    48\n military                    13\n child_alone                  0\n water                       46\n food                       112\n shelter                     49\n clothing                    23\n money                       77\n missing_people              47\n refugees                    35\n death                       82\n other_aid                  310\n infrastructure_related     148\n transport                  122\n buildings                  113\n electricity                127\n tools                       12\n hospitals                   27\n shops                       19\n aid_centers                 13\n other_infrastructure        99\n weather_related           1501\n floods                     104\n storm                      686\n fire                        16\n earthquake                 751\n cold                        52\n other_weather              117\n direct_report              616\n Name: social, dtype: int64]"
     },
     "execution_count": 24,
     "metadata": {},
     "output_type": "execute_result"
    }
   ],
   "source": [
    "[gmc.loc[genre] for genre in gmc.index]"
   ],
   "metadata": {
    "collapsed": false,
    "pycharm": {
     "name": "#%%\n"
    }
   }
  }
 ],
 "metadata": {
  "kernelspec": {
   "display_name": "Python 3",
   "language": "python",
   "name": "python3"
  },
  "language_info": {
   "codemirror_mode": {
    "name": "ipython",
    "version": 2
   },
   "file_extension": ".py",
   "mimetype": "text/x-python",
   "name": "python",
   "nbconvert_exporter": "python",
   "pygments_lexer": "ipython2",
   "version": "2.7.6"
  }
 },
 "nbformat": 4,
 "nbformat_minor": 0
}