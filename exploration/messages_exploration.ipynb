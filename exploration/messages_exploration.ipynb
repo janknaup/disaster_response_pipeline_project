{
 "cells": [
  {
   "cell_type": "markdown",
   "metadata": {
    "collapsed": true,
    "pycharm": {
     "name": "#%% md\n"
    }
   },
   "source": [
    "# Exploration for Disaster Message Categorization"
   ]
  },
  {
   "cell_type": "code",
   "execution_count": 1,
   "outputs": [],
   "source": [
    "import pandas as pd\n",
    "import nltk\n",
    "import sqlite3\n"
   ],
   "metadata": {
    "collapsed": false,
    "pycharm": {
     "name": "#%%\n"
    }
   }
  },
  {
   "cell_type": "markdown",
   "source": [
    "## Exploring Message Categories"
   ],
   "metadata": {
    "collapsed": false,
    "pycharm": {
     "name": "#%% md\n"
    }
   }
  },
  {
   "cell_type": "code",
   "execution_count": 2,
   "outputs": [
    {
     "data": {
      "text/plain": "                                              categories\nid                                                      \n22020  related-1;request-0;offer-0;aid_related-0;medi...\n5280   related-1;request-0;offer-0;aid_related-0;medi...\n26493  related-1;request-0;offer-0;aid_related-1;medi...\n27356  related-0;request-0;offer-0;aid_related-0;medi...\n9868   related-0;request-0;offer-0;aid_related-0;medi...\n25221  related-1;request-0;offer-0;aid_related-1;medi...\n29960  related-1;request-0;offer-0;aid_related-1;medi...\n24744  related-0;request-0;offer-0;aid_related-0;medi...\n14528  related-2;request-0;offer-0;aid_related-0;medi...\n782    related-1;request-1;offer-0;aid_related-1;medi...\n2879   related-1;request-0;offer-0;aid_related-0;medi...\n22694  related-1;request-0;offer-0;aid_related-1;medi...\n23444  related-0;request-0;offer-0;aid_related-0;medi...\n22047  related-1;request-0;offer-0;aid_related-1;medi...\n8222   related-1;request-0;offer-0;aid_related-0;medi...\n11197  related-1;request-1;offer-0;aid_related-1;medi...\n30058  related-1;request-0;offer-0;aid_related-1;medi...\n10480  related-0;request-0;offer-0;aid_related-0;medi...\n18718  related-1;request-0;offer-0;aid_related-1;medi...\n10840  related-1;request-0;offer-0;aid_related-0;medi...",
      "text/html": "<div>\n<style scoped>\n    .dataframe tbody tr th:only-of-type {\n        vertical-align: middle;\n    }\n\n    .dataframe tbody tr th {\n        vertical-align: top;\n    }\n\n    .dataframe thead th {\n        text-align: right;\n    }\n</style>\n<table border=\"1\" class=\"dataframe\">\n  <thead>\n    <tr style=\"text-align: right;\">\n      <th></th>\n      <th>categories</th>\n    </tr>\n    <tr>\n      <th>id</th>\n      <th></th>\n    </tr>\n  </thead>\n  <tbody>\n    <tr>\n      <th>22020</th>\n      <td>related-1;request-0;offer-0;aid_related-0;medi...</td>\n    </tr>\n    <tr>\n      <th>5280</th>\n      <td>related-1;request-0;offer-0;aid_related-0;medi...</td>\n    </tr>\n    <tr>\n      <th>26493</th>\n      <td>related-1;request-0;offer-0;aid_related-1;medi...</td>\n    </tr>\n    <tr>\n      <th>27356</th>\n      <td>related-0;request-0;offer-0;aid_related-0;medi...</td>\n    </tr>\n    <tr>\n      <th>9868</th>\n      <td>related-0;request-0;offer-0;aid_related-0;medi...</td>\n    </tr>\n    <tr>\n      <th>25221</th>\n      <td>related-1;request-0;offer-0;aid_related-1;medi...</td>\n    </tr>\n    <tr>\n      <th>29960</th>\n      <td>related-1;request-0;offer-0;aid_related-1;medi...</td>\n    </tr>\n    <tr>\n      <th>24744</th>\n      <td>related-0;request-0;offer-0;aid_related-0;medi...</td>\n    </tr>\n    <tr>\n      <th>14528</th>\n      <td>related-2;request-0;offer-0;aid_related-0;medi...</td>\n    </tr>\n    <tr>\n      <th>782</th>\n      <td>related-1;request-1;offer-0;aid_related-1;medi...</td>\n    </tr>\n    <tr>\n      <th>2879</th>\n      <td>related-1;request-0;offer-0;aid_related-0;medi...</td>\n    </tr>\n    <tr>\n      <th>22694</th>\n      <td>related-1;request-0;offer-0;aid_related-1;medi...</td>\n    </tr>\n    <tr>\n      <th>23444</th>\n      <td>related-0;request-0;offer-0;aid_related-0;medi...</td>\n    </tr>\n    <tr>\n      <th>22047</th>\n      <td>related-1;request-0;offer-0;aid_related-1;medi...</td>\n    </tr>\n    <tr>\n      <th>8222</th>\n      <td>related-1;request-0;offer-0;aid_related-0;medi...</td>\n    </tr>\n    <tr>\n      <th>11197</th>\n      <td>related-1;request-1;offer-0;aid_related-1;medi...</td>\n    </tr>\n    <tr>\n      <th>30058</th>\n      <td>related-1;request-0;offer-0;aid_related-1;medi...</td>\n    </tr>\n    <tr>\n      <th>10480</th>\n      <td>related-0;request-0;offer-0;aid_related-0;medi...</td>\n    </tr>\n    <tr>\n      <th>18718</th>\n      <td>related-1;request-0;offer-0;aid_related-1;medi...</td>\n    </tr>\n    <tr>\n      <th>10840</th>\n      <td>related-1;request-0;offer-0;aid_related-0;medi...</td>\n    </tr>\n  </tbody>\n</table>\n</div>"
     },
     "execution_count": 2,
     "metadata": {},
     "output_type": "execute_result"
    }
   ],
   "source": [
    "cats_raw_df = pd.read_csv(\"../data/disaster_categories.csv\", header=0, index_col='id')\n",
    "cats_raw_df.sample(20)"
   ],
   "metadata": {
    "collapsed": false,
    "pycharm": {
     "name": "#%%\n"
    }
   }
  },
  {
   "cell_type": "code",
   "execution_count": 31,
   "outputs": [],
   "source": [
    "def get_categories(df: pd.DataFrame):\n",
    "    \"\"\"\n",
    "    get category names from 1st item in data frame. assumes categories appear in same order in every row\n",
    "\n",
    "    :param df: data frame to sample\n",
    "    :return: list of category name strings\n",
    "    \"\"\"\n",
    "    tokens = df.iloc[0]['categories'].split(\";\")\n",
    "    return [tok.split(\"-\")[0] for tok in tokens]\n",
    "\n",
    "def get_category_values(line: str):\n",
    "    \"\"\"\n",
    "    Parse a message categories line, return values as list\n",
    "\n",
    "    :param line: categories string for single disaster message\n",
    "    :return: list of 1-hot encoded categories\n",
    "    \"\"\"\n",
    "    tokens = line.split(\";\")\n",
    "    return pd.Series([int(tok.split(\"-\")[1]) for tok in tokens])"
   ],
   "metadata": {
    "collapsed": false,
    "pycharm": {
     "name": "#%%\n"
    }
   }
  },
  {
   "cell_type": "code",
   "execution_count": 35,
   "outputs": [
    {
     "data": {
      "text/plain": "       related  request  offer  aid_related  medical_help  medical_products  \\\nid                                                                            \n14487        1        0      0            0             0                 0   \n58           1        0      0            1             0                 0   \n26411        1        0      0            0             0                 0   \n23532        0        0      0            0             0                 0   \n28070        0        0      0            0             0                 0   \n15930        1        1      0            1             0                 0   \n11287        1        0      0            0             0                 0   \n19083        1        0      0            1             0                 0   \n15030        1        0      0            0             0                 0   \n21014        1        0      0            1             0                 0   \n29094        1        0      0            0             0                 0   \n11638        1        0      0            0             0                 0   \n20693        1        0      0            0             0                 0   \n11480        1        0      0            0             0                 0   \n6564         0        0      0            0             0                 0   \n18617        1        0      0            1             0                 0   \n9845         0        0      0            0             0                 0   \n29617        1        0      0            1             1                 1   \n15297        1        0      0            0             0                 0   \n24629        0        0      0            0             0                 0   \n\n       search_and_rescue  security  military  child_alone  ...  aid_centers  \\\nid                                                         ...                \n14487                  0         0         0            0  ...            0   \n58                     0         0         0            0  ...            0   \n26411                  0         0         0            0  ...            0   \n23532                  0         0         0            0  ...            0   \n28070                  0         0         0            0  ...            0   \n15930                  0         0         0            0  ...            0   \n11287                  0         0         0            0  ...            0   \n19083                  0         0         0            0  ...            0   \n15030                  0         0         0            0  ...            0   \n21014                  0         0         0            0  ...            0   \n29094                  0         0         0            0  ...            0   \n11638                  0         0         0            0  ...            0   \n20693                  0         0         0            0  ...            0   \n11480                  0         0         0            0  ...            0   \n6564                   0         0         0            0  ...            0   \n18617                  0         1         0            0  ...            0   \n9845                   0         0         0            0  ...            0   \n29617                  0         0         0            0  ...            0   \n15297                  0         0         0            0  ...            0   \n24629                  0         0         0            0  ...            0   \n\n       other_infrastructure  weather_related  floods  storm  fire  earthquake  \\\nid                                                                              \n14487                     0                1       1      0     0           0   \n58                        0                1       0      0     0           1   \n26411                     0                0       0      0     0           0   \n23532                     0                0       0      0     0           0   \n28070                     0                0       0      0     0           0   \n15930                     0                1       1      0     0           0   \n11287                     0                1       0      0     0           1   \n19083                     0                0       0      0     0           0   \n15030                     0                1       0      1     0           0   \n21014                     0                0       0      0     0           0   \n29094                     0                1       1      0     0           0   \n11638                     0                1       0      0     0           1   \n20693                     0                0       0      0     0           0   \n11480                     0                1       0      0     0           1   \n6564                      0                0       0      0     0           0   \n18617                     0                1       0      0     0           1   \n9845                      0                0       0      0     0           0   \n29617                     1                1       1      0     0           0   \n15297                     0                1       0      1     0           0   \n24629                     0                0       0      0     0           0   \n\n       cold  other_weather  direct_report  \nid                                         \n14487     0              0              0  \n58        0              0              0  \n26411     0              0              0  \n23532     0              0              0  \n28070     0              0              0  \n15930     0              0              1  \n11287     0              0              0  \n19083     0              0              0  \n15030     0              0              0  \n21014     0              0              0  \n29094     0              0              0  \n11638     0              0              0  \n20693     0              0              0  \n11480     0              0              0  \n6564      0              0              0  \n18617     0              0              1  \n9845      0              0              0  \n29617     0              0              0  \n15297     0              0              1  \n24629     0              0              0  \n\n[20 rows x 36 columns]",
      "text/html": "<div>\n<style scoped>\n    .dataframe tbody tr th:only-of-type {\n        vertical-align: middle;\n    }\n\n    .dataframe tbody tr th {\n        vertical-align: top;\n    }\n\n    .dataframe thead th {\n        text-align: right;\n    }\n</style>\n<table border=\"1\" class=\"dataframe\">\n  <thead>\n    <tr style=\"text-align: right;\">\n      <th></th>\n      <th>related</th>\n      <th>request</th>\n      <th>offer</th>\n      <th>aid_related</th>\n      <th>medical_help</th>\n      <th>medical_products</th>\n      <th>search_and_rescue</th>\n      <th>security</th>\n      <th>military</th>\n      <th>child_alone</th>\n      <th>...</th>\n      <th>aid_centers</th>\n      <th>other_infrastructure</th>\n      <th>weather_related</th>\n      <th>floods</th>\n      <th>storm</th>\n      <th>fire</th>\n      <th>earthquake</th>\n      <th>cold</th>\n      <th>other_weather</th>\n      <th>direct_report</th>\n    </tr>\n    <tr>\n      <th>id</th>\n      <th></th>\n      <th></th>\n      <th></th>\n      <th></th>\n      <th></th>\n      <th></th>\n      <th></th>\n      <th></th>\n      <th></th>\n      <th></th>\n      <th></th>\n      <th></th>\n      <th></th>\n      <th></th>\n      <th></th>\n      <th></th>\n      <th></th>\n      <th></th>\n      <th></th>\n      <th></th>\n      <th></th>\n    </tr>\n  </thead>\n  <tbody>\n    <tr>\n      <th>14487</th>\n      <td>1</td>\n      <td>0</td>\n      <td>0</td>\n      <td>0</td>\n      <td>0</td>\n      <td>0</td>\n      <td>0</td>\n      <td>0</td>\n      <td>0</td>\n      <td>0</td>\n      <td>...</td>\n      <td>0</td>\n      <td>0</td>\n      <td>1</td>\n      <td>1</td>\n      <td>0</td>\n      <td>0</td>\n      <td>0</td>\n      <td>0</td>\n      <td>0</td>\n      <td>0</td>\n    </tr>\n    <tr>\n      <th>58</th>\n      <td>1</td>\n      <td>0</td>\n      <td>0</td>\n      <td>1</td>\n      <td>0</td>\n      <td>0</td>\n      <td>0</td>\n      <td>0</td>\n      <td>0</td>\n      <td>0</td>\n      <td>...</td>\n      <td>0</td>\n      <td>0</td>\n      <td>1</td>\n      <td>0</td>\n      <td>0</td>\n      <td>0</td>\n      <td>1</td>\n      <td>0</td>\n      <td>0</td>\n      <td>0</td>\n    </tr>\n    <tr>\n      <th>26411</th>\n      <td>1</td>\n      <td>0</td>\n      <td>0</td>\n      <td>0</td>\n      <td>0</td>\n      <td>0</td>\n      <td>0</td>\n      <td>0</td>\n      <td>0</td>\n      <td>0</td>\n      <td>...</td>\n      <td>0</td>\n      <td>0</td>\n      <td>0</td>\n      <td>0</td>\n      <td>0</td>\n      <td>0</td>\n      <td>0</td>\n      <td>0</td>\n      <td>0</td>\n      <td>0</td>\n    </tr>\n    <tr>\n      <th>23532</th>\n      <td>0</td>\n      <td>0</td>\n      <td>0</td>\n      <td>0</td>\n      <td>0</td>\n      <td>0</td>\n      <td>0</td>\n      <td>0</td>\n      <td>0</td>\n      <td>0</td>\n      <td>...</td>\n      <td>0</td>\n      <td>0</td>\n      <td>0</td>\n      <td>0</td>\n      <td>0</td>\n      <td>0</td>\n      <td>0</td>\n      <td>0</td>\n      <td>0</td>\n      <td>0</td>\n    </tr>\n    <tr>\n      <th>28070</th>\n      <td>0</td>\n      <td>0</td>\n      <td>0</td>\n      <td>0</td>\n      <td>0</td>\n      <td>0</td>\n      <td>0</td>\n      <td>0</td>\n      <td>0</td>\n      <td>0</td>\n      <td>...</td>\n      <td>0</td>\n      <td>0</td>\n      <td>0</td>\n      <td>0</td>\n      <td>0</td>\n      <td>0</td>\n      <td>0</td>\n      <td>0</td>\n      <td>0</td>\n      <td>0</td>\n    </tr>\n    <tr>\n      <th>15930</th>\n      <td>1</td>\n      <td>1</td>\n      <td>0</td>\n      <td>1</td>\n      <td>0</td>\n      <td>0</td>\n      <td>0</td>\n      <td>0</td>\n      <td>0</td>\n      <td>0</td>\n      <td>...</td>\n      <td>0</td>\n      <td>0</td>\n      <td>1</td>\n      <td>1</td>\n      <td>0</td>\n      <td>0</td>\n      <td>0</td>\n      <td>0</td>\n      <td>0</td>\n      <td>1</td>\n    </tr>\n    <tr>\n      <th>11287</th>\n      <td>1</td>\n      <td>0</td>\n      <td>0</td>\n      <td>0</td>\n      <td>0</td>\n      <td>0</td>\n      <td>0</td>\n      <td>0</td>\n      <td>0</td>\n      <td>0</td>\n      <td>...</td>\n      <td>0</td>\n      <td>0</td>\n      <td>1</td>\n      <td>0</td>\n      <td>0</td>\n      <td>0</td>\n      <td>1</td>\n      <td>0</td>\n      <td>0</td>\n      <td>0</td>\n    </tr>\n    <tr>\n      <th>19083</th>\n      <td>1</td>\n      <td>0</td>\n      <td>0</td>\n      <td>1</td>\n      <td>0</td>\n      <td>0</td>\n      <td>0</td>\n      <td>0</td>\n      <td>0</td>\n      <td>0</td>\n      <td>...</td>\n      <td>0</td>\n      <td>0</td>\n      <td>0</td>\n      <td>0</td>\n      <td>0</td>\n      <td>0</td>\n      <td>0</td>\n      <td>0</td>\n      <td>0</td>\n      <td>0</td>\n    </tr>\n    <tr>\n      <th>15030</th>\n      <td>1</td>\n      <td>0</td>\n      <td>0</td>\n      <td>0</td>\n      <td>0</td>\n      <td>0</td>\n      <td>0</td>\n      <td>0</td>\n      <td>0</td>\n      <td>0</td>\n      <td>...</td>\n      <td>0</td>\n      <td>0</td>\n      <td>1</td>\n      <td>0</td>\n      <td>1</td>\n      <td>0</td>\n      <td>0</td>\n      <td>0</td>\n      <td>0</td>\n      <td>0</td>\n    </tr>\n    <tr>\n      <th>21014</th>\n      <td>1</td>\n      <td>0</td>\n      <td>0</td>\n      <td>1</td>\n      <td>0</td>\n      <td>0</td>\n      <td>0</td>\n      <td>0</td>\n      <td>0</td>\n      <td>0</td>\n      <td>...</td>\n      <td>0</td>\n      <td>0</td>\n      <td>0</td>\n      <td>0</td>\n      <td>0</td>\n      <td>0</td>\n      <td>0</td>\n      <td>0</td>\n      <td>0</td>\n      <td>0</td>\n    </tr>\n    <tr>\n      <th>29094</th>\n      <td>1</td>\n      <td>0</td>\n      <td>0</td>\n      <td>0</td>\n      <td>0</td>\n      <td>0</td>\n      <td>0</td>\n      <td>0</td>\n      <td>0</td>\n      <td>0</td>\n      <td>...</td>\n      <td>0</td>\n      <td>0</td>\n      <td>1</td>\n      <td>1</td>\n      <td>0</td>\n      <td>0</td>\n      <td>0</td>\n      <td>0</td>\n      <td>0</td>\n      <td>0</td>\n    </tr>\n    <tr>\n      <th>11638</th>\n      <td>1</td>\n      <td>0</td>\n      <td>0</td>\n      <td>0</td>\n      <td>0</td>\n      <td>0</td>\n      <td>0</td>\n      <td>0</td>\n      <td>0</td>\n      <td>0</td>\n      <td>...</td>\n      <td>0</td>\n      <td>0</td>\n      <td>1</td>\n      <td>0</td>\n      <td>0</td>\n      <td>0</td>\n      <td>1</td>\n      <td>0</td>\n      <td>0</td>\n      <td>0</td>\n    </tr>\n    <tr>\n      <th>20693</th>\n      <td>1</td>\n      <td>0</td>\n      <td>0</td>\n      <td>0</td>\n      <td>0</td>\n      <td>0</td>\n      <td>0</td>\n      <td>0</td>\n      <td>0</td>\n      <td>0</td>\n      <td>...</td>\n      <td>0</td>\n      <td>0</td>\n      <td>0</td>\n      <td>0</td>\n      <td>0</td>\n      <td>0</td>\n      <td>0</td>\n      <td>0</td>\n      <td>0</td>\n      <td>0</td>\n    </tr>\n    <tr>\n      <th>11480</th>\n      <td>1</td>\n      <td>0</td>\n      <td>0</td>\n      <td>0</td>\n      <td>0</td>\n      <td>0</td>\n      <td>0</td>\n      <td>0</td>\n      <td>0</td>\n      <td>0</td>\n      <td>...</td>\n      <td>0</td>\n      <td>0</td>\n      <td>1</td>\n      <td>0</td>\n      <td>0</td>\n      <td>0</td>\n      <td>1</td>\n      <td>0</td>\n      <td>0</td>\n      <td>0</td>\n    </tr>\n    <tr>\n      <th>6564</th>\n      <td>0</td>\n      <td>0</td>\n      <td>0</td>\n      <td>0</td>\n      <td>0</td>\n      <td>0</td>\n      <td>0</td>\n      <td>0</td>\n      <td>0</td>\n      <td>0</td>\n      <td>...</td>\n      <td>0</td>\n      <td>0</td>\n      <td>0</td>\n      <td>0</td>\n      <td>0</td>\n      <td>0</td>\n      <td>0</td>\n      <td>0</td>\n      <td>0</td>\n      <td>0</td>\n    </tr>\n    <tr>\n      <th>18617</th>\n      <td>1</td>\n      <td>0</td>\n      <td>0</td>\n      <td>1</td>\n      <td>0</td>\n      <td>0</td>\n      <td>0</td>\n      <td>1</td>\n      <td>0</td>\n      <td>0</td>\n      <td>...</td>\n      <td>0</td>\n      <td>0</td>\n      <td>1</td>\n      <td>0</td>\n      <td>0</td>\n      <td>0</td>\n      <td>1</td>\n      <td>0</td>\n      <td>0</td>\n      <td>1</td>\n    </tr>\n    <tr>\n      <th>9845</th>\n      <td>0</td>\n      <td>0</td>\n      <td>0</td>\n      <td>0</td>\n      <td>0</td>\n      <td>0</td>\n      <td>0</td>\n      <td>0</td>\n      <td>0</td>\n      <td>0</td>\n      <td>...</td>\n      <td>0</td>\n      <td>0</td>\n      <td>0</td>\n      <td>0</td>\n      <td>0</td>\n      <td>0</td>\n      <td>0</td>\n      <td>0</td>\n      <td>0</td>\n      <td>0</td>\n    </tr>\n    <tr>\n      <th>29617</th>\n      <td>1</td>\n      <td>0</td>\n      <td>0</td>\n      <td>1</td>\n      <td>1</td>\n      <td>1</td>\n      <td>0</td>\n      <td>0</td>\n      <td>0</td>\n      <td>0</td>\n      <td>...</td>\n      <td>0</td>\n      <td>1</td>\n      <td>1</td>\n      <td>1</td>\n      <td>0</td>\n      <td>0</td>\n      <td>0</td>\n      <td>0</td>\n      <td>0</td>\n      <td>0</td>\n    </tr>\n    <tr>\n      <th>15297</th>\n      <td>1</td>\n      <td>0</td>\n      <td>0</td>\n      <td>0</td>\n      <td>0</td>\n      <td>0</td>\n      <td>0</td>\n      <td>0</td>\n      <td>0</td>\n      <td>0</td>\n      <td>...</td>\n      <td>0</td>\n      <td>0</td>\n      <td>1</td>\n      <td>0</td>\n      <td>1</td>\n      <td>0</td>\n      <td>0</td>\n      <td>0</td>\n      <td>0</td>\n      <td>1</td>\n    </tr>\n    <tr>\n      <th>24629</th>\n      <td>0</td>\n      <td>0</td>\n      <td>0</td>\n      <td>0</td>\n      <td>0</td>\n      <td>0</td>\n      <td>0</td>\n      <td>0</td>\n      <td>0</td>\n      <td>0</td>\n      <td>...</td>\n      <td>0</td>\n      <td>0</td>\n      <td>0</td>\n      <td>0</td>\n      <td>0</td>\n      <td>0</td>\n      <td>0</td>\n      <td>0</td>\n      <td>0</td>\n      <td>0</td>\n    </tr>\n  </tbody>\n</table>\n<p>20 rows × 36 columns</p>\n</div>"
     },
     "execution_count": 35,
     "metadata": {},
     "output_type": "execute_result"
    }
   ],
   "source": [
    "columns = get_categories(cats_raw_df)\n",
    "test = cats_raw_df['categories'].apply(get_category_values)\n",
    "test.columns = columns\n",
    "test.sample(20)"
   ],
   "metadata": {
    "collapsed": false,
    "pycharm": {
     "name": "#%%\n"
    }
   }
  },
  {
   "cell_type": "code",
   "execution_count": 37,
   "outputs": [
    {
     "data": {
      "text/plain": "related                   26248\nrequest                   26248\noffer                     26248\naid_related               26248\nmedical_help              26248\nmedical_products          26248\nsearch_and_rescue         26248\nsecurity                  26248\nmilitary                  26248\nchild_alone               26248\nwater                     26248\nfood                      26248\nshelter                   26248\nclothing                  26248\nmoney                     26248\nmissing_people            26248\nrefugees                  26248\ndeath                     26248\nother_aid                 26248\ninfrastructure_related    26248\ntransport                 26248\nbuildings                 26248\nelectricity               26248\ntools                     26248\nhospitals                 26248\nshops                     26248\naid_centers               26248\nother_infrastructure      26248\nweather_related           26248\nfloods                    26248\nstorm                     26248\nfire                      26248\nearthquake                26248\ncold                      26248\nother_weather             26248\ndirect_report             26248\ndtype: int64"
     },
     "execution_count": 37,
     "metadata": {},
     "output_type": "execute_result"
    }
   ],
   "source": [
    "# number of valid entries\n",
    "test.count()"
   ],
   "metadata": {
    "collapsed": false,
    "pycharm": {
     "name": "#%%\n"
    }
   }
  },
  {
   "cell_type": "code",
   "execution_count": 38,
   "outputs": [
    {
     "data": {
      "text/plain": "related                   20316\nrequest                    4480\noffer                       119\naid_related               10878\nmedical_help               2087\nmedical_products           1314\nsearch_and_rescue           724\nsecurity                    471\nmilitary                    860\nchild_alone                   0\nwater                      1674\nfood                       2930\nshelter                    2319\nclothing                    406\nmoney                       604\nmissing_people              299\nrefugees                    876\ndeath                      1196\nother_aid                  3448\ninfrastructure_related     1705\ntransport                  1203\nbuildings                  1335\nelectricity                 534\ntools                       159\nhospitals                   283\nshops                       120\naid_centers                 309\nother_infrastructure       1151\nweather_related            7304\nfloods                     2158\nstorm                      2448\nfire                        282\nearthquake                 2455\ncold                        530\nother_weather              1376\ndirect_report              5081\ndtype: int64"
     },
     "execution_count": 38,
     "metadata": {},
     "output_type": "execute_result"
    }
   ],
   "source": [
    "# number of messages with category\n",
    "test.sum()"
   ],
   "metadata": {
    "collapsed": false,
    "pycharm": {
     "name": "#%%\n"
    }
   }
  },
  {
   "cell_type": "code",
   "execution_count": 39,
   "outputs": [
    {
     "data": {
      "text/plain": "related                   0.774002\nrequest                   0.170680\noffer                     0.004534\naid_related               0.414432\nmedical_help              0.079511\nmedical_products          0.050061\nsearch_and_rescue         0.027583\nsecurity                  0.017944\nmilitary                  0.032764\nchild_alone               0.000000\nwater                     0.063776\nfood                      0.111628\nshelter                   0.088350\nclothing                  0.015468\nmoney                     0.023011\nmissing_people            0.011391\nrefugees                  0.033374\ndeath                     0.045565\nother_aid                 0.131362\ninfrastructure_related    0.064957\ntransport                 0.045832\nbuildings                 0.050861\nelectricity               0.020344\ntools                     0.006058\nhospitals                 0.010782\nshops                     0.004572\naid_centers               0.011772\nother_infrastructure      0.043851\nweather_related           0.278269\nfloods                    0.082216\nstorm                     0.093264\nfire                      0.010744\nearthquake                0.093531\ncold                      0.020192\nother_weather             0.052423\ndirect_report             0.193577\ndtype: float64"
     },
     "execution_count": 39,
     "metadata": {},
     "output_type": "execute_result"
    }
   ],
   "source": [
    "# fraction of messages with category\n",
    "test.sum() / test.count()"
   ],
   "metadata": {
    "collapsed": false,
    "pycharm": {
     "name": "#%%\n"
    }
   }
  },
  {
   "cell_type": "markdown",
   "source": [
    "## Exploring messages"
   ],
   "metadata": {
    "collapsed": false,
    "pycharm": {
     "name": "#%% md\n"
    }
   }
  },
  {
   "cell_type": "code",
   "execution_count": 40,
   "outputs": [
    {
     "data": {
      "text/plain": "                                                 message  \\\nid                                                         \n937    i have a problem talking to people in port au ...   \n28082  He said regular sorties were being carried out...   \n4023   I don't have monies to go give blood in Port-a...   \n19547  Large swathes of India are reeling under a sco...   \n14237  We will not survive in this chilling winter an...   \n7370   we don't understend the message which sent by ...   \n29296  With the emergency phase over, the Russian Red...   \n22344  The profiles of these and other victims in the...   \n2920       142, Ruelle Beaulieu, Mon Repos 44 Carrefour    \n25475  The Strategic Climate Fund will support pilot ...   \n16801  A fundraising appeal has been launched and an ...   \n9851             NOTES: This message is not for my work.   \n6261   I am a victim. I have head injuries. I do not ...   \n3820            NOTES: regular gossip. Not an emergency.   \n9494   We need tents for sleeping because they point ...   \n8979                Help croix des bouquets santo 19 #7    \n19999  Monday, foreign military officials said up to ...   \n352    I have no card, tell me what kind of SMS I nee...   \n10934  I'd like to know if someone can sleep in the h...   \n5741   Hello, i wanna know if the office of archive w...   \n\n                                                original   genre  \nid                                                                \n937    Mwen gen you poblem pou m pale ak moun mwen yo...  direct  \n28082                                                NaN    news  \n4023   Mwen pa gen kob, pou m ale bay san Port au pri...  direct  \n19547                                                NaN    news  \n14237  mar jain gey is shadeed sardi mein. main aur m...  direct  \n7370               Mwen pa konprann mesaj la ONG voye a.  direct  \n29296                                                NaN    news  \n22344                                                NaN    news  \n2920         142, ruelle beaulieu mon repos 44 carrefour  direct  \n25475                                                NaN    news  \n16801                                                NaN    news  \n9851   Il sont composes d'un certains nombre determin...  direct  \n6261   Mwen se yon viktim mwen frape nan tet koulyea ...  direct  \n3820   Svp d yo ap bay yo pa rive sou nou nan jivna3 ...  direct  \n9494   nou bezwen tant poum ka domi paske yo anonse l...  direct  \n8979                Aide croix des bouquets santo 19 # 7  direct  \n19999                                                NaN    news  \n352           Mwen pagen kat dim kijan de Sms pou m voye  direct  \n10934  Mwen ta renmen konnen eske moun ka demi andeda...  direct  \n5741   Salut, j'aimerais savoir bien si l'archive ntl...  direct  ",
      "text/html": "<div>\n<style scoped>\n    .dataframe tbody tr th:only-of-type {\n        vertical-align: middle;\n    }\n\n    .dataframe tbody tr th {\n        vertical-align: top;\n    }\n\n    .dataframe thead th {\n        text-align: right;\n    }\n</style>\n<table border=\"1\" class=\"dataframe\">\n  <thead>\n    <tr style=\"text-align: right;\">\n      <th></th>\n      <th>message</th>\n      <th>original</th>\n      <th>genre</th>\n    </tr>\n    <tr>\n      <th>id</th>\n      <th></th>\n      <th></th>\n      <th></th>\n    </tr>\n  </thead>\n  <tbody>\n    <tr>\n      <th>937</th>\n      <td>i have a problem talking to people in port au ...</td>\n      <td>Mwen gen you poblem pou m pale ak moun mwen yo...</td>\n      <td>direct</td>\n    </tr>\n    <tr>\n      <th>28082</th>\n      <td>He said regular sorties were being carried out...</td>\n      <td>NaN</td>\n      <td>news</td>\n    </tr>\n    <tr>\n      <th>4023</th>\n      <td>I don't have monies to go give blood in Port-a...</td>\n      <td>Mwen pa gen kob, pou m ale bay san Port au pri...</td>\n      <td>direct</td>\n    </tr>\n    <tr>\n      <th>19547</th>\n      <td>Large swathes of India are reeling under a sco...</td>\n      <td>NaN</td>\n      <td>news</td>\n    </tr>\n    <tr>\n      <th>14237</th>\n      <td>We will not survive in this chilling winter an...</td>\n      <td>mar jain gey is shadeed sardi mein. main aur m...</td>\n      <td>direct</td>\n    </tr>\n    <tr>\n      <th>7370</th>\n      <td>we don't understend the message which sent by ...</td>\n      <td>Mwen pa konprann mesaj la ONG voye a.</td>\n      <td>direct</td>\n    </tr>\n    <tr>\n      <th>29296</th>\n      <td>With the emergency phase over, the Russian Red...</td>\n      <td>NaN</td>\n      <td>news</td>\n    </tr>\n    <tr>\n      <th>22344</th>\n      <td>The profiles of these and other victims in the...</td>\n      <td>NaN</td>\n      <td>news</td>\n    </tr>\n    <tr>\n      <th>2920</th>\n      <td>142, Ruelle Beaulieu, Mon Repos 44 Carrefour</td>\n      <td>142, ruelle beaulieu mon repos 44 carrefour</td>\n      <td>direct</td>\n    </tr>\n    <tr>\n      <th>25475</th>\n      <td>The Strategic Climate Fund will support pilot ...</td>\n      <td>NaN</td>\n      <td>news</td>\n    </tr>\n    <tr>\n      <th>16801</th>\n      <td>A fundraising appeal has been launched and an ...</td>\n      <td>NaN</td>\n      <td>news</td>\n    </tr>\n    <tr>\n      <th>9851</th>\n      <td>NOTES: This message is not for my work.</td>\n      <td>Il sont composes d'un certains nombre determin...</td>\n      <td>direct</td>\n    </tr>\n    <tr>\n      <th>6261</th>\n      <td>I am a victim. I have head injuries. I do not ...</td>\n      <td>Mwen se yon viktim mwen frape nan tet koulyea ...</td>\n      <td>direct</td>\n    </tr>\n    <tr>\n      <th>3820</th>\n      <td>NOTES: regular gossip. Not an emergency.</td>\n      <td>Svp d yo ap bay yo pa rive sou nou nan jivna3 ...</td>\n      <td>direct</td>\n    </tr>\n    <tr>\n      <th>9494</th>\n      <td>We need tents for sleeping because they point ...</td>\n      <td>nou bezwen tant poum ka domi paske yo anonse l...</td>\n      <td>direct</td>\n    </tr>\n    <tr>\n      <th>8979</th>\n      <td>Help croix des bouquets santo 19 #7</td>\n      <td>Aide croix des bouquets santo 19 # 7</td>\n      <td>direct</td>\n    </tr>\n    <tr>\n      <th>19999</th>\n      <td>Monday, foreign military officials said up to ...</td>\n      <td>NaN</td>\n      <td>news</td>\n    </tr>\n    <tr>\n      <th>352</th>\n      <td>I have no card, tell me what kind of SMS I nee...</td>\n      <td>Mwen pagen kat dim kijan de Sms pou m voye</td>\n      <td>direct</td>\n    </tr>\n    <tr>\n      <th>10934</th>\n      <td>I'd like to know if someone can sleep in the h...</td>\n      <td>Mwen ta renmen konnen eske moun ka demi andeda...</td>\n      <td>direct</td>\n    </tr>\n    <tr>\n      <th>5741</th>\n      <td>Hello, i wanna know if the office of archive w...</td>\n      <td>Salut, j'aimerais savoir bien si l'archive ntl...</td>\n      <td>direct</td>\n    </tr>\n  </tbody>\n</table>\n</div>"
     },
     "execution_count": 40,
     "metadata": {},
     "output_type": "execute_result"
    }
   ],
   "source": [
    "msg_raw = pd.read_csv(\"../data/disaster_messages.csv\", header=0, index_col='id')\n",
    "msg_raw.sample(20)"
   ],
   "metadata": {
    "collapsed": false,
    "pycharm": {
     "name": "#%%\n"
    }
   }
  },
  {
   "cell_type": "code",
   "source": [
    "# distribution of message genres\n",
    "msg_raw['genre'].value_counts()"
   ],
   "metadata": {
    "collapsed": false,
    "pycharm": {
     "name": "#%%\n"
    }
   },
   "execution_count": 41,
   "outputs": [
    {
     "data": {
      "text/plain": "news      13068\ndirect    10782\nsocial     2398\nName: genre, dtype: int64"
     },
     "execution_count": 41,
     "metadata": {},
     "output_type": "execute_result"
    }
   ]
  },
  {
   "cell_type": "code",
   "execution_count": 42,
   "outputs": [
    {
     "data": {
      "text/plain": "0.3879914660164584"
     },
     "execution_count": 42,
     "metadata": {},
     "output_type": "execute_result"
    }
   ],
   "source": [
    "# fraction of messages that have an original in a different language\n",
    "msg_raw['original'].count() / len(msg_raw)"
   ],
   "metadata": {
    "collapsed": false,
    "pycharm": {
     "name": "#%%\n"
    }
   }
  },
  {
   "cell_type": "code",
   "execution_count": 45,
   "outputs": [
    {
     "data": {
      "text/plain": "        message  original\ngenre                    \ndirect    10782     10184\nnews      13068         0\nsocial     2398         0",
      "text/html": "<div>\n<style scoped>\n    .dataframe tbody tr th:only-of-type {\n        vertical-align: middle;\n    }\n\n    .dataframe tbody tr th {\n        vertical-align: top;\n    }\n\n    .dataframe thead th {\n        text-align: right;\n    }\n</style>\n<table border=\"1\" class=\"dataframe\">\n  <thead>\n    <tr style=\"text-align: right;\">\n      <th></th>\n      <th>message</th>\n      <th>original</th>\n    </tr>\n    <tr>\n      <th>genre</th>\n      <th></th>\n      <th></th>\n    </tr>\n  </thead>\n  <tbody>\n    <tr>\n      <th>direct</th>\n      <td>10782</td>\n      <td>10184</td>\n    </tr>\n    <tr>\n      <th>news</th>\n      <td>13068</td>\n      <td>0</td>\n    </tr>\n    <tr>\n      <th>social</th>\n      <td>2398</td>\n      <td>0</td>\n    </tr>\n  </tbody>\n</table>\n</div>"
     },
     "execution_count": 45,
     "metadata": {},
     "output_type": "execute_result"
    }
   ],
   "source": [
    "# message counts by genre\n",
    "msg_raw.groupby('genre').count()"
   ],
   "metadata": {
    "collapsed": false,
    "pycharm": {
     "name": "#%%\n"
    }
   }
  },
  {
   "cell_type": "code",
   "execution_count": 51,
   "outputs": [
    {
     "data": {
      "text/plain": "False"
     },
     "execution_count": 51,
     "metadata": {},
     "output_type": "execute_result"
    }
   ],
   "source": [],
   "metadata": {
    "collapsed": false,
    "pycharm": {
     "name": "#%%\n"
    }
   }
  },
  {
   "cell_type": "code",
   "execution_count": 54,
   "outputs": [
    {
     "data": {
      "text/plain": "                                                 message  \\\nid                                                         \n3539                  NOTES: Personal. Not an emergency.   \n3579            NOTES: aclet dry We are counting on you.   \n3583                     NOTES: talking about gas prices   \n3651                NOTES: Historic earthquake in Haiti.   \n3737   NOTES: They are requesting that somebody to pa...   \n...                                                  ...   \n11161  NOTES: I already translated the message is not...   \n11167      NOTES: this messsage doesn't concern this job   \n11168  NOTES: This text is not clear. it doesn't has ...   \n11171  NOTES: I allready translate this message, it's...   \n11172           NOTES: I allready translate thi message.   \n\n                                                original   genre  \nid                                                                \n3539   prezidan preval mande,pou tout moun ki konn bw...  direct  \n3579                  aclet dry. nous comptons sur vous.  direct  \n3583   GEN SERI DE MESAJ FOK NOU TA BIEN PRECIZE YO L...  direct  \n3651                 istorik tranblemannte an ayiti svp,  direct  \n3737   Mesaj avek la otorite sil vou ple mezanmi pase...  direct  \n...                                                  ...     ...  \n11161  Je vous salut dans le nom de Dieu merci a la r...  direct  \n11167  metenan je te salye nan nom jesus ti na pa ape...  direct  \n11168                  BEGIN:VCARD N:W TEL:999 END:VCARD  direct  \n11171  Mw se rolain mw ta renmen konnen Eske pa gen k...  direct  \n11172  n'ap fe yon bon travay.m remsye nou pou tout e...  direct  \n\n[331 rows x 3 columns]",
      "text/html": "<div>\n<style scoped>\n    .dataframe tbody tr th:only-of-type {\n        vertical-align: middle;\n    }\n\n    .dataframe tbody tr th {\n        vertical-align: top;\n    }\n\n    .dataframe thead th {\n        text-align: right;\n    }\n</style>\n<table border=\"1\" class=\"dataframe\">\n  <thead>\n    <tr style=\"text-align: right;\">\n      <th></th>\n      <th>message</th>\n      <th>original</th>\n      <th>genre</th>\n    </tr>\n    <tr>\n      <th>id</th>\n      <th></th>\n      <th></th>\n      <th></th>\n    </tr>\n  </thead>\n  <tbody>\n    <tr>\n      <th>3539</th>\n      <td>NOTES: Personal. Not an emergency.</td>\n      <td>prezidan preval mande,pou tout moun ki konn bw...</td>\n      <td>direct</td>\n    </tr>\n    <tr>\n      <th>3579</th>\n      <td>NOTES: aclet dry We are counting on you.</td>\n      <td>aclet dry. nous comptons sur vous.</td>\n      <td>direct</td>\n    </tr>\n    <tr>\n      <th>3583</th>\n      <td>NOTES: talking about gas prices</td>\n      <td>GEN SERI DE MESAJ FOK NOU TA BIEN PRECIZE YO L...</td>\n      <td>direct</td>\n    </tr>\n    <tr>\n      <th>3651</th>\n      <td>NOTES: Historic earthquake in Haiti.</td>\n      <td>istorik tranblemannte an ayiti svp,</td>\n      <td>direct</td>\n    </tr>\n    <tr>\n      <th>3737</th>\n      <td>NOTES: They are requesting that somebody to pa...</td>\n      <td>Mesaj avek la otorite sil vou ple mezanmi pase...</td>\n      <td>direct</td>\n    </tr>\n    <tr>\n      <th>...</th>\n      <td>...</td>\n      <td>...</td>\n      <td>...</td>\n    </tr>\n    <tr>\n      <th>11161</th>\n      <td>NOTES: I already translated the message is not...</td>\n      <td>Je vous salut dans le nom de Dieu merci a la r...</td>\n      <td>direct</td>\n    </tr>\n    <tr>\n      <th>11167</th>\n      <td>NOTES: this messsage doesn't concern this job</td>\n      <td>metenan je te salye nan nom jesus ti na pa ape...</td>\n      <td>direct</td>\n    </tr>\n    <tr>\n      <th>11168</th>\n      <td>NOTES: This text is not clear. it doesn't has ...</td>\n      <td>BEGIN:VCARD N:W TEL:999 END:VCARD</td>\n      <td>direct</td>\n    </tr>\n    <tr>\n      <th>11171</th>\n      <td>NOTES: I allready translate this message, it's...</td>\n      <td>Mw se rolain mw ta renmen konnen Eske pa gen k...</td>\n      <td>direct</td>\n    </tr>\n    <tr>\n      <th>11172</th>\n      <td>NOTES: I allready translate thi message.</td>\n      <td>n'ap fe yon bon travay.m remsye nou pou tout e...</td>\n      <td>direct</td>\n    </tr>\n  </tbody>\n</table>\n<p>331 rows × 3 columns</p>\n</div>"
     },
     "execution_count": 54,
     "metadata": {},
     "output_type": "execute_result"
    }
   ],
   "source": [
    "# some messages have NOTES\n",
    "noted_msg = msg_raw.loc[msg_raw['message'].str.contains('NOTES')]\n",
    "noted_msg"
   ],
   "metadata": {
    "collapsed": false,
    "pycharm": {
     "name": "#%%\n"
    }
   }
  },
  {
   "cell_type": "code",
   "execution_count": 55,
   "outputs": [
    {
     "data": {
      "text/plain": "Int64Index([ 3539,  3579,  3583,  3651,  3737,  3761,  3775,  3820,  3871,\n             3877,\n            ...\n            11100, 11109, 11110, 11138, 11143, 11161, 11167, 11168, 11171,\n            11172],\n           dtype='int64', name='id', length=331)"
     },
     "execution_count": 55,
     "metadata": {},
     "output_type": "execute_result"
    }
   ],
   "source": [
    "# get noted indices for dropping\n",
    "noted_msg.index"
   ],
   "metadata": {
    "collapsed": false,
    "pycharm": {
     "name": "#%%\n"
    }
   }
  },
  {
   "cell_type": "code",
   "execution_count": 56,
   "outputs": [
    {
     "data": {
      "text/plain": "                                                 message  \\\nid                                                         \n2      Weather update - a cold front from Cuba that c...   \n7                Is the Hurricane over or is it not over   \n8                        Looking for someone but no name   \n9      UN reports Leogane 80-90 destroyed. Only Hospi...   \n12     says: west side of Haiti, rest of the country ...   \n...                                                  ...   \n30261  The training demonstrated how to enhance micro...   \n30262  A suitable candidate has been selected and OCH...   \n30263  Proshika, operating in Cox's Bazar municipalit...   \n30264  Some 2,000 women protesting against the conduc...   \n30265  A radical shift in thinking came about as a re...   \n\n                                                original   genre  \nid                                                                \n2      Un front froid se retrouve sur Cuba ce matin. ...  direct  \n7                     Cyclone nan fini osinon li pa fini  direct  \n8      Patnm, di Maryani relem pou li banm nouvel li ...  direct  \n9      UN reports Leogane 80-90 destroyed. Only Hospi...  direct  \n12     facade ouest d Haiti et le reste du pays aujou...  direct  \n...                                                  ...     ...  \n30261                                                NaN    news  \n30262                                                NaN    news  \n30263                                                NaN    news  \n30264                                                NaN    news  \n30265                                                NaN    news  \n\n[25917 rows x 3 columns]",
      "text/html": "<div>\n<style scoped>\n    .dataframe tbody tr th:only-of-type {\n        vertical-align: middle;\n    }\n\n    .dataframe tbody tr th {\n        vertical-align: top;\n    }\n\n    .dataframe thead th {\n        text-align: right;\n    }\n</style>\n<table border=\"1\" class=\"dataframe\">\n  <thead>\n    <tr style=\"text-align: right;\">\n      <th></th>\n      <th>message</th>\n      <th>original</th>\n      <th>genre</th>\n    </tr>\n    <tr>\n      <th>id</th>\n      <th></th>\n      <th></th>\n      <th></th>\n    </tr>\n  </thead>\n  <tbody>\n    <tr>\n      <th>2</th>\n      <td>Weather update - a cold front from Cuba that c...</td>\n      <td>Un front froid se retrouve sur Cuba ce matin. ...</td>\n      <td>direct</td>\n    </tr>\n    <tr>\n      <th>7</th>\n      <td>Is the Hurricane over or is it not over</td>\n      <td>Cyclone nan fini osinon li pa fini</td>\n      <td>direct</td>\n    </tr>\n    <tr>\n      <th>8</th>\n      <td>Looking for someone but no name</td>\n      <td>Patnm, di Maryani relem pou li banm nouvel li ...</td>\n      <td>direct</td>\n    </tr>\n    <tr>\n      <th>9</th>\n      <td>UN reports Leogane 80-90 destroyed. Only Hospi...</td>\n      <td>UN reports Leogane 80-90 destroyed. Only Hospi...</td>\n      <td>direct</td>\n    </tr>\n    <tr>\n      <th>12</th>\n      <td>says: west side of Haiti, rest of the country ...</td>\n      <td>facade ouest d Haiti et le reste du pays aujou...</td>\n      <td>direct</td>\n    </tr>\n    <tr>\n      <th>...</th>\n      <td>...</td>\n      <td>...</td>\n      <td>...</td>\n    </tr>\n    <tr>\n      <th>30261</th>\n      <td>The training demonstrated how to enhance micro...</td>\n      <td>NaN</td>\n      <td>news</td>\n    </tr>\n    <tr>\n      <th>30262</th>\n      <td>A suitable candidate has been selected and OCH...</td>\n      <td>NaN</td>\n      <td>news</td>\n    </tr>\n    <tr>\n      <th>30263</th>\n      <td>Proshika, operating in Cox's Bazar municipalit...</td>\n      <td>NaN</td>\n      <td>news</td>\n    </tr>\n    <tr>\n      <th>30264</th>\n      <td>Some 2,000 women protesting against the conduc...</td>\n      <td>NaN</td>\n      <td>news</td>\n    </tr>\n    <tr>\n      <th>30265</th>\n      <td>A radical shift in thinking came about as a re...</td>\n      <td>NaN</td>\n      <td>news</td>\n    </tr>\n  </tbody>\n</table>\n<p>25917 rows × 3 columns</p>\n</div>"
     },
     "execution_count": 56,
     "metadata": {},
     "output_type": "execute_result"
    }
   ],
   "source": [
    "# drop noted messages\n",
    "cleaned_msg = msg_raw.drop(noted_msg.index, axis=0)\n",
    "cleaned_msg"
   ],
   "metadata": {
    "collapsed": false,
    "pycharm": {
     "name": "#%%\n"
    }
   }
  }
 ],
 "metadata": {
  "kernelspec": {
   "display_name": "Python 3",
   "language": "python",
   "name": "python3"
  },
  "language_info": {
   "codemirror_mode": {
    "name": "ipython",
    "version": 2
   },
   "file_extension": ".py",
   "mimetype": "text/x-python",
   "name": "python",
   "nbconvert_exporter": "python",
   "pygments_lexer": "ipython2",
   "version": "2.7.6"
  }
 },
 "nbformat": 4,
 "nbformat_minor": 0
}